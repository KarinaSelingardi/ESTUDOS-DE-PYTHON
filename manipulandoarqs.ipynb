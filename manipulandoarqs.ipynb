{
  "nbformat": 4,
  "nbformat_minor": 0,
  "metadata": {
    "colab": {
      "provenance": []
    },
    "kernelspec": {
      "name": "python3",
      "display_name": "Python 3"
    },
    "language_info": {
      "name": "python"
    }
  },
  "cells": [
    {
      "cell_type": "code",
      "source": [
        "import os"
      ],
      "metadata": {
        "id": "K-dh1Kme4m40"
      },
      "execution_count": null,
      "outputs": []
    },
    {
      "cell_type": "code",
      "execution_count": null,
      "metadata": {
        "id": "33SYI5EBy30a"
      },
      "outputs": [],
      "source": [
        "arquivo = open ('exemplo.txt','w')"
      ]
    },
    {
      "cell_type": "code",
      "source": [
        "arquivo2 = open (\"C:\\Downloads\\exemplo2.txt\",'w')"
      ],
      "metadata": {
        "id": "Ku4rvqihtK3J"
      },
      "execution_count": null,
      "outputs": []
    },
    {
      "cell_type": "markdown",
      "source": [],
      "metadata": {
        "id": "Urj31Pekt48V"
      }
    },
    {
      "cell_type": "code",
      "source": [
        "print(os.path.abspath(arquivo2.name))"
      ],
      "metadata": {
        "colab": {
          "base_uri": "https://localhost:8080/"
        },
        "id": "rqfyZCCWtnIp",
        "outputId": "55aabc20-8bc7-495a-d43a-561858dc77ae"
      },
      "execution_count": null,
      "outputs": [
        {
          "output_type": "stream",
          "name": "stdout",
          "text": [
            "/content/C:\\Downloads\\exemplo2.txt\n"
          ]
        }
      ]
    },
    {
      "cell_type": "code",
      "source": [
        "print(os.path.relpath(arquivo2.name))"
      ],
      "metadata": {
        "colab": {
          "base_uri": "https://localhost:8080/"
        },
        "id": "33f4Ea3luJtv",
        "outputId": "5f4c0d8b-1732-45c8-ff67-0a0a180f8110"
      },
      "execution_count": null,
      "outputs": [
        {
          "output_type": "stream",
          "name": "stdout",
          "text": [
            "C:\\Downloads\\exemplo2.txt\n"
          ]
        }
      ]
    },
    {
      "cell_type": "code",
      "source": [
        "print(\"Nome do arquivo: \",arquivo.name)\n",
        "print(\"Modo: \", arquivo.mode)\n",
        "print(\"arq aberto: \",arquivo.closed)"
      ],
      "metadata": {
        "colab": {
          "base_uri": "https://localhost:8080/"
        },
        "id": "mYXnzCpR2H5b",
        "outputId": "9a712208-a509-4b04-fa9f-67042d0c397e"
      },
      "execution_count": null,
      "outputs": [
        {
          "output_type": "stream",
          "name": "stdout",
          "text": [
            "Nome do arquivo:  exemplo.txt\n",
            "Modo:  w\n",
            "arq aberto:  False\n"
          ]
        }
      ]
    },
    {
      "cell_type": "code",
      "source": [
        "arquivo.write(\"Ola, todo mundo!\")"
      ],
      "metadata": {
        "colab": {
          "base_uri": "https://localhost:8080/"
        },
        "id": "anB2ENsC2unC",
        "outputId": "c930c78d-9f82-4a6d-e864-8660fafa0d89"
      },
      "execution_count": null,
      "outputs": [
        {
          "output_type": "execute_result",
          "data": {
            "text/plain": [
              "16"
            ]
          },
          "metadata": {},
          "execution_count": 10
        }
      ]
    },
    {
      "cell_type": "code",
      "source": [
        "arquivo.close()"
      ],
      "metadata": {
        "id": "mMdXh8ti3akU"
      },
      "execution_count": 28,
      "outputs": []
    },
    {
      "cell_type": "markdown",
      "source": [],
      "metadata": {
        "id": "P2KlHR632UJr"
      }
    },
    {
      "cell_type": "code",
      "source": [
        "\n",
        "print(\"arq ebrto? \",arquivo.closed)"
      ],
      "metadata": {
        "colab": {
          "base_uri": "https://localhost:8080/"
        },
        "outputId": "2f5228d5-8de7-44d5-b407-30866a33a5c2",
        "id": "9Lrcayeh3n5J"
      },
      "execution_count": 29,
      "outputs": [
        {
          "output_type": "stream",
          "name": "stdout",
          "text": [
            "arq ebrto?  True\n"
          ]
        }
      ]
    },
    {
      "cell_type": "code",
      "source": [
        "exit()"
      ],
      "metadata": {
        "id": "YDMS-UYm34MQ"
      },
      "execution_count": null,
      "outputs": []
    },
    {
      "cell_type": "code",
      "source": [
        "realpath = os.path.realpath('exemplo.txt')\n",
        "abspath = os.path.abspath('exemplo.txt')\n"
      ],
      "metadata": {
        "id": "w0scF5L_335B"
      },
      "execution_count": null,
      "outputs": []
    },
    {
      "cell_type": "code",
      "source": [
        "print(\"relativo: \",realpath)\n",
        "print(\"absoluto: \", abspath)"
      ],
      "metadata": {
        "colab": {
          "base_uri": "https://localhost:8080/"
        },
        "id": "k15o6-QR4xyh",
        "outputId": "9bd82b3e-b639-44f7-994e-9494a569efdb"
      },
      "execution_count": null,
      "outputs": [
        {
          "output_type": "stream",
          "name": "stdout",
          "text": [
            "relativo:  /content/exemplo.txt\n",
            "absoluto:  /content/exemplo.txt\n"
          ]
        }
      ]
    },
    {
      "cell_type": "code",
      "source": [
        "arquivo = open ('exemplo.txt','r')"
      ],
      "metadata": {
        "id": "UT9WnoIQ5p7M"
      },
      "execution_count": null,
      "outputs": []
    },
    {
      "cell_type": "code",
      "source": [
        "conteudo = arquivo.read()\n",
        "print(\"tipo de conteudo:  \",type(conteudo))"
      ],
      "metadata": {
        "colab": {
          "base_uri": "https://localhost:8080/"
        },
        "id": "AYLUOavP5sMa",
        "outputId": "c3930a79-3c71-4128-a8cd-7dbacd9cf39d"
      },
      "execution_count": null,
      "outputs": [
        {
          "output_type": "stream",
          "name": "stdout",
          "text": [
            "tipo de conteudo:   <class 'str'>\n"
          ]
        }
      ]
    },
    {
      "cell_type": "code",
      "source": [
        "print(repr(conteudo))"
      ],
      "metadata": {
        "colab": {
          "base_uri": "https://localhost:8080/"
        },
        "id": "qJ6HJ9_E6gjc",
        "outputId": "226678cb-6a66-4ec8-cc8f-d9e5117cf56f"
      },
      "execution_count": null,
      "outputs": [
        {
          "output_type": "stream",
          "name": "stdout",
          "text": [
            "'Ola, todo mundo!'\n"
          ]
        }
      ]
    },
    {
      "cell_type": "code",
      "source": [
        "arquivo.close()"
      ],
      "metadata": {
        "id": "LobFE09Q6vh5"
      },
      "execution_count": null,
      "outputs": []
    },
    {
      "cell_type": "code",
      "source": [
        "arquivo = open ('exemplo.txt','r')"
      ],
      "metadata": {
        "id": "ZHSY6a6463qp"
      },
      "execution_count": null,
      "outputs": []
    },
    {
      "cell_type": "code",
      "source": [
        "conteudo = arquivo.readline()"
      ],
      "metadata": {
        "id": "xuNKQBcc67Ao"
      },
      "execution_count": null,
      "outputs": []
    },
    {
      "cell_type": "code",
      "source": [
        "print(\"tipo de conteudo:  \",type(conteudo))"
      ],
      "metadata": {
        "colab": {
          "base_uri": "https://localhost:8080/"
        },
        "id": "Sw7fuuP16_wQ",
        "outputId": "7c8404bc-f49f-430d-d4f1-6a35030832e7"
      },
      "execution_count": null,
      "outputs": [
        {
          "output_type": "stream",
          "name": "stdout",
          "text": [
            "tipo de conteudo:   <class 'str'>\n"
          ]
        }
      ]
    },
    {
      "cell_type": "code",
      "source": [
        "print(repr(conteudo))"
      ],
      "metadata": {
        "colab": {
          "base_uri": "https://localhost:8080/"
        },
        "id": "oaGIFgf87HU5",
        "outputId": "e859efeb-1f80-44ed-c86b-da4fbcca9f81"
      },
      "execution_count": null,
      "outputs": [
        {
          "output_type": "stream",
          "name": "stdout",
          "text": [
            "'Ola, todo mundo!'\n"
          ]
        }
      ]
    },
    {
      "cell_type": "code",
      "source": [
        "proximo_conteudo = arquivo.readlines()"
      ],
      "metadata": {
        "id": "DWHA2xyf7Ta0"
      },
      "execution_count": null,
      "outputs": []
    },
    {
      "cell_type": "code",
      "source": [
        "print(repr(conteudo))"
      ],
      "metadata": {
        "colab": {
          "base_uri": "https://localhost:8080/"
        },
        "outputId": "e5d8befc-b7ee-4626-9686-d31376637850",
        "id": "4Y7EKKf97sdW"
      },
      "execution_count": null,
      "outputs": [
        {
          "output_type": "stream",
          "name": "stdout",
          "text": [
            "'Ola, todo mundo!'\n"
          ]
        }
      ]
    },
    {
      "cell_type": "code",
      "source": [
        "arquivo = open ('exemplo.txt','r')"
      ],
      "metadata": {
        "id": "Qtkh69dS3YVC"
      },
      "execution_count": 1,
      "outputs": []
    },
    {
      "cell_type": "code",
      "source": [
        "print (\"iterando sobre o arquivo\")\n",
        "for linha in arquivo:\n",
        "    print(repr(linha))"
      ],
      "metadata": {
        "colab": {
          "base_uri": "https://localhost:8080/"
        },
        "id": "JVIXgmQi3exg",
        "outputId": "68d91a0d-1449-43ae-c832-8133a822755c"
      },
      "execution_count": 2,
      "outputs": [
        {
          "output_type": "stream",
          "name": "stdout",
          "text": [
            "iterando sobre o arquivo\n",
            "'exemplo'\n"
          ]
        }
      ]
    },
    {
      "cell_type": "code",
      "source": [
        "arquivo = open ('exemplo.txt','r')"
      ],
      "metadata": {
        "id": "YN9GMR6B8qnA"
      },
      "execution_count": 3,
      "outputs": []
    },
    {
      "cell_type": "code",
      "source": [
        "conteudo = arquivo.read()"
      ],
      "metadata": {
        "id": "jFAlmy5Z8vfw"
      },
      "execution_count": 4,
      "outputs": []
    },
    {
      "cell_type": "code",
      "source": [
        "print(\"todo o conteudo do arquivo\")"
      ],
      "metadata": {
        "colab": {
          "base_uri": "https://localhost:8080/"
        },
        "id": "v_Df8gf59rXA",
        "outputId": "4006a88f-04f8-4e71-fcbf-7ed3a20f1302"
      },
      "execution_count": 5,
      "outputs": [
        {
          "output_type": "stream",
          "name": "stdout",
          "text": [
            "todo o conteudo do arquivo\n"
          ]
        }
      ]
    },
    {
      "cell_type": "code",
      "source": [
        "print(repr(conteudo),'\\n')"
      ],
      "metadata": {
        "colab": {
          "base_uri": "https://localhost:8080/"
        },
        "id": "k87yq5qJ9yqB",
        "outputId": "4e49f398-1fb2-4a2e-e012-77a8df7a5ef3"
      },
      "execution_count": 6,
      "outputs": [
        {
          "output_type": "stream",
          "name": "stdout",
          "text": [
            "'exemplo' \n",
            "\n"
          ]
        }
      ]
    },
    {
      "cell_type": "code",
      "source": [
        "arquivo.close()"
      ],
      "metadata": {
        "id": "FYq71VJq-Mlw"
      },
      "execution_count": 7,
      "outputs": []
    },
    {
      "cell_type": "code",
      "source": [
        "arquivo_reaberto = open(\"exemplo.txt\",\"r\")"
      ],
      "metadata": {
        "id": "IJngZn6nR0lA"
      },
      "execution_count": 8,
      "outputs": []
    },
    {
      "cell_type": "code",
      "source": [
        "conteudo_reaberto = arquivo_reaberto.read()"
      ],
      "metadata": {
        "id": "FMDR7RxSSC99"
      },
      "execution_count": 9,
      "outputs": []
    },
    {
      "cell_type": "code",
      "source": [
        "print(\"todo o conteudo do arquivo novamente\")"
      ],
      "metadata": {
        "colab": {
          "base_uri": "https://localhost:8080/"
        },
        "id": "pxsCYKzOSP4O",
        "outputId": "ce8f9764-ac7b-40d1-ed3a-67a4913bced5"
      },
      "execution_count": 10,
      "outputs": [
        {
          "output_type": "stream",
          "name": "stdout",
          "text": [
            "todo o conteudo do arquivo novamente\n"
          ]
        }
      ]
    },
    {
      "cell_type": "code",
      "source": [
        "print(repr(conteudo_reaberto),'\\n')"
      ],
      "metadata": {
        "colab": {
          "base_uri": "https://localhost:8080/"
        },
        "id": "ftCoUX5xSXqw",
        "outputId": "c6c2af5a-8273-45c7-cb82-d9f6a168c3a5"
      },
      "execution_count": 11,
      "outputs": [
        {
          "output_type": "stream",
          "name": "stdout",
          "text": [
            "'exemplo' \n",
            "\n"
          ]
        }
      ]
    },
    {
      "cell_type": "code",
      "source": [
        "arquivo_reaberto.seek(0)"
      ],
      "metadata": {
        "colab": {
          "base_uri": "https://localhost:8080/"
        },
        "id": "OkcRmeLhS0cn",
        "outputId": "7e6f368c-3d07-4e2b-9377-96d665d3e5fa"
      },
      "execution_count": 15,
      "outputs": [
        {
          "output_type": "execute_result",
          "data": {
            "text/plain": [
              "0"
            ]
          },
          "metadata": {},
          "execution_count": 15
        }
      ]
    },
    {
      "cell_type": "code",
      "source": [
        "conteudo_seek = arquivo_reaberto.read()"
      ],
      "metadata": {
        "id": "j-m-o0GrS9ae"
      },
      "execution_count": 16,
      "outputs": []
    },
    {
      "cell_type": "code",
      "source": [
        "print(\"todo o conteudo do arquivo novamente apos seek\")"
      ],
      "metadata": {
        "colab": {
          "base_uri": "https://localhost:8080/"
        },
        "id": "c1TvpvWoTFNG",
        "outputId": "a5468f7f-a383-4e95-9da8-3368ec66bb70"
      },
      "execution_count": 17,
      "outputs": [
        {
          "output_type": "stream",
          "name": "stdout",
          "text": [
            "todo o conteudo do arquivo novamente apos seek\n"
          ]
        }
      ]
    },
    {
      "cell_type": "code",
      "source": [
        "print(repr(conteudo_seek),'\\n')"
      ],
      "metadata": {
        "colab": {
          "base_uri": "https://localhost:8080/"
        },
        "id": "4v0huAeRTKEl",
        "outputId": "648a91f6-eaea-4da3-d5fa-f5cd361526a8"
      },
      "execution_count": 18,
      "outputs": [
        {
          "output_type": "stream",
          "name": "stdout",
          "text": [
            "'exemplo' \n",
            "\n"
          ]
        }
      ]
    },
    {
      "cell_type": "code",
      "source": [
        "arquivo_escrita = open(\"exemplo.txt\",\"a\")"
      ],
      "metadata": {
        "id": "5KlZ6hn9UqgG"
      },
      "execution_count": 32,
      "outputs": []
    },
    {
      "cell_type": "code",
      "source": [
        "arquivo_escrita.write(\"\\nOla, todo mundo!Adicionado\")"
      ],
      "metadata": {
        "colab": {
          "base_uri": "https://localhost:8080/"
        },
        "id": "lxydy09YUzZd",
        "outputId": "703cb410-ceec-4275-ebc1-27ce229bc64c"
      },
      "execution_count": 33,
      "outputs": [
        {
          "output_type": "execute_result",
          "data": {
            "text/plain": [
              "27"
            ]
          },
          "metadata": {},
          "execution_count": 33
        }
      ]
    },
    {
      "cell_type": "code",
      "source": [
        "print(\"iterando sobre o arquivo\")"
      ],
      "metadata": {
        "colab": {
          "base_uri": "https://localhost:8080/"
        },
        "id": "qI7jvXmeV0qL",
        "outputId": "6173be51-0a13-4e93-f09e-52ecfc70620e"
      },
      "execution_count": 34,
      "outputs": [
        {
          "output_type": "stream",
          "name": "stdout",
          "text": [
            "iterando sobre o arquivo\n"
          ]
        }
      ]
    },
    {
      "cell_type": "code",
      "source": [
        "with open(\"exemplo.txt\",\"r\") as arquivo:\n",
        "    for linha in arquivo:\n",
        "        print(linha)\n",
        "        print(\"fim do arquivo\",arquivo.name)"
      ],
      "metadata": {
        "colab": {
          "base_uri": "https://localhost:8080/"
        },
        "id": "yopBzZCGV-7T",
        "outputId": "5b0d279a-a383-4795-ee40-efbdb690c7bd"
      },
      "execution_count": 35,
      "outputs": [
        {
          "output_type": "stream",
          "name": "stdout",
          "text": [
            "exemploOla, todo mundo!AdicionadoOla, todo mundo!Adicionado\n",
            "\n",
            "fim do arquivo exemplo.txt\n",
            "Ola, todo mundo!Adicionado\n",
            "fim do arquivo exemplo.txt\n"
          ]
        }
      ]
    },
    {
      "cell_type": "code",
      "source": [
        "def main():\n",
        "    print(\"Digite suas frases. Digite 'sair' para terminar e salvar o arquivo.\")\n",
        "    frases = []\n",
        "    while True:\n",
        "        entrada = input(\"> \")\n",
        "        if entrada.lower() == \"sair\":\n",
        "            break\n",
        "        frases.append(entrada)\n",
        "\n",
        "    with open(\"meu_arquivo.txt\", \"a\", encoding = 'UTF-8') as arquivo:\n",
        "        for frase in frases:\n",
        "            arquivo.write(frase + \"\\n\")\n",
        "\n",
        "    print(\"Arquivo original criado. Agora vamos manipular os dados.\")\n",
        "    dados_modificados = []\n",
        "    with open(\"meu_arquivo.txt\", \"r\") as arquivo:\n",
        "        for linha in arquivo:\n",
        "            dados_modificados.append(linha.strip().upper())  # Exemplo de manipulação: converter para maiúsculas\n",
        "\n",
        "    with open(\"meu_arquivo.txt\", \"w\") as arquivo:\n",
        "        for linha in dados_modificados:\n",
        "            arquivo.write(linha + \"\\n\")\n",
        "\n",
        "    print(\"O arquivo foi sobrescrito com os dados modificados.\")\n",
        "\n",
        "if __name__ == \"__main__\":\n",
        "    main()"
      ],
      "metadata": {
        "colab": {
          "base_uri": "https://localhost:8080/"
        },
        "id": "b8GizBknq9OS",
        "outputId": "de199079-c3bc-4bdd-cf63-631274161341"
      },
      "execution_count": 37,
      "outputs": [
        {
          "output_type": "stream",
          "name": "stdout",
          "text": [
            "Digite suas frases. Digite 'sair' para terminar e salvar o arquivo.\n",
            "> abcd vfdvbd\n",
            "> fvdfb\n",
            "> sair\n",
            "Arquivo original criado. Agora vamos manipular os dados.\n",
            "O arquivo foi sobrescrito com os dados modificados.\n"
          ]
        }
      ]
    }
  ]
}