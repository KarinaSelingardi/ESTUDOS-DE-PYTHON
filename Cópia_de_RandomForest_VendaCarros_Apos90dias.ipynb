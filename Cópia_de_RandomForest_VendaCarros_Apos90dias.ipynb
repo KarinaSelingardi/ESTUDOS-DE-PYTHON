{
  "nbformat": 4,
  "nbformat_minor": 0,
  "metadata": {
    "kernelspec": {
      "display_name": "Python [conda env:Anaconda2]",
      "language": "python",
      "name": "conda-env-Anaconda2-py"
    },
    "language_info": {
      "codemirror_mode": {
        "name": "ipython",
        "version": 2
      },
      "file_extension": ".py",
      "mimetype": "text/x-python",
      "name": "python",
      "nbconvert_exporter": "python",
      "pygments_lexer": "ipython2",
      "version": "2.7.12"
    },
    "colab": {
      "provenance": [],
      "include_colab_link": true
    }
  },
  "cells": [
    {
      "cell_type": "markdown",
      "metadata": {
        "id": "view-in-github",
        "colab_type": "text"
      },
      "source": [
        "<a href=\"https://colab.research.google.com/github/KarinaSelingardi/ESTUDOS-DE-PYTHON/blob/main/C%C3%B3pia_de_RandomForest_VendaCarros_Apos90dias.ipynb\" target=\"_parent\"><img src=\"https://colab.research.google.com/assets/colab-badge.svg\" alt=\"Open In Colab\"/></a>"
      ]
    },
    {
      "cell_type": "markdown",
      "metadata": {
        "id": "D4ArqC0DupWg"
      },
      "source": [
        "# Floresta Randômica (*Random Forest*) 🌳🌳🌳🐍"
      ]
    },
    {
      "cell_type": "markdown",
      "source": [
        "📚🌳🌳🌳 Florestas aleatórias ou florestas de decisão aleatória é um método de aprendizado conjunto para classificação, regressão e outras tarefas que opera construindo uma infinidade de árvores de decisão em tempo de treinamento."
      ],
      "metadata": {
        "id": "nodndxFNORDz"
      }
    },
    {
      "cell_type": "markdown",
      "metadata": {
        "id": "L-QJBjHfupWj"
      },
      "source": [
        "## Exemplo: Vendas de uma concessionária de veículos usados\n",
        "\n",
        "Pegamos o mesmo exemplo que utilizamos em [Árvore de Decisão](https://colab.research.google.com/drive/1DjjLYneLw7pZxuKNnxFCmSgwgBsauQOS?usp=drive_fs#scrollTo=SKIUf2z6upb6&forceEdit=true&sandboxMode=true), para mostrar a melhoria em desempenho... 🏃"
      ]
    },
    {
      "cell_type": "code",
      "source": [
        "# Necessário para ler o .xls\n",
        "!pip install --upgrade xlrd"
      ],
      "metadata": {
        "colab": {
          "base_uri": "https://localhost:8080/"
        },
        "id": "lCecWAvmPMQY",
        "outputId": "8e8fd2aa-5c2f-41d1-f613-8f001e36ec77"
      },
      "execution_count": null,
      "outputs": [
        {
          "output_type": "stream",
          "name": "stdout",
          "text": [
            "Requirement already satisfied: xlrd in /usr/local/lib/python3.7/dist-packages (1.1.0)\n",
            "Collecting xlrd\n",
            "  Downloading xlrd-2.0.1-py2.py3-none-any.whl (96 kB)\n",
            "\u001b[K     |████████████████████████████████| 96 kB 2.9 MB/s \n",
            "\u001b[?25hInstalling collected packages: xlrd\n",
            "  Attempting uninstall: xlrd\n",
            "    Found existing installation: xlrd 1.1.0\n",
            "    Uninstalling xlrd-1.1.0:\n",
            "      Successfully uninstalled xlrd-1.1.0\n",
            "Successfully installed xlrd-2.0.1\n"
          ]
        }
      ]
    },
    {
      "cell_type": "code",
      "metadata": {
        "id": "AdZjASaVupWl"
      },
      "source": [
        "# Importando o pandas\n",
        "import pandas as pd"
      ],
      "execution_count": null,
      "outputs": []
    },
    {
      "cell_type": "code",
      "metadata": {
        "id": "5pImFk5lupWs"
      },
      "source": [
        "# arquivo disponível em: https://github.com/aasouzaconsult/DiversosMachineLearning/blob/master/Data/carros_usados.xls\n",
        "df = pd.read_excel('/content/carros_usados.xls')"
      ],
      "execution_count": null,
      "outputs": []
    },
    {
      "cell_type": "markdown",
      "metadata": {
        "id": "rJV0nIw2upWy"
      },
      "source": [
        "## Analisando os dados...\n",
        "- `data.set` (informa se é dado de treinamento ou teste)\n",
        "- `total.cost` (custo total do veículo)\n",
        "- `lot.sales.days` (dias na concessionária até a venda)\n",
        "- `overage` (passou de 90 dias na concessionária?)\n",
        "- `mileage` (kilometragem do veículo)\n",
        "- `vehicle.type` (Tipo do veículo)\n",
        "- `domestic.import` (Se é produzido no país ou importado)\n",
        "- `vehicle.age` (idade do veículo)\n",
        "- `vehicle.age.group` (grupo com idade do veículo)\n",
        "- `color.set` (cor do veículo)\n",
        "- `makex` (fabricante do veículo)\n",
        "- `state` (estado (EUA) do registro veículo)\n",
        "- `make.model` (modelo do veículo)"
      ]
    },
    {
      "cell_type": "code",
      "metadata": {
        "id": "KQj0IvmCupW0",
        "outputId": "a020d4cf-ca30-4bf5-f7e8-3649c9f7f343",
        "colab": {
          "base_uri": "https://localhost:8080/",
          "height": 206
        }
      },
      "source": [
        "# Visualizando as 5 primeiras linhas do Dataframe\n",
        "df.head()"
      ],
      "execution_count": null,
      "outputs": [
        {
          "output_type": "execute_result",
          "data": {
            "text/plain": [
              "  data.set  total.cost  lot.sale.days overage  mileage   vehicle.type  \\\n",
              "0    TRAIN        4037            135     YES    67341   FAMILY.LARGE   \n",
              "1    TRAIN        6886            114     YES    72823  FAMILY.MEDIUM   \n",
              "2    TRAIN        3924            205     YES    96330  FAMILY.MEDIUM   \n",
              "3    TRAIN        4636            100     YES    58519        ECONOMY   \n",
              "4    TRAIN        5080            129     YES    99057  FAMILY.MEDIUM   \n",
              "\n",
              "  domestic.import  vehicle.age vehicle.age.group color.set       makex state  \\\n",
              "0        Domestic            8            SEVEN+    SILVER       BUICK    CA   \n",
              "1        Domestic            6               SIX     WHITE       DODGE    AZ   \n",
              "2        Domestic            9            SEVEN+     WHITE  OLDSMOBILE    FL   \n",
              "3          Import            4              FOUR      GOLD         KIA    NV   \n",
              "4        Domestic            4              FOUR     GREEN  OLDSMOBILE    NV   \n",
              "\n",
              "                   make.model  \n",
              "0               BUICK.CENTURY  \n",
              "1                  DODGE.NEON  \n",
              "2  OLDSMOBILE.CUTLASS SUPREME  \n",
              "3                  KIA.SEPHIA  \n",
              "4  OLDSMOBILE.CUTLASS SUPREME  "
            ],
            "text/html": [
              "\n",
              "  <div id=\"df-ce55a0a8-b647-484a-ba38-a94dfec609bc\">\n",
              "    <div class=\"colab-df-container\">\n",
              "      <div>\n",
              "<style scoped>\n",
              "    .dataframe tbody tr th:only-of-type {\n",
              "        vertical-align: middle;\n",
              "    }\n",
              "\n",
              "    .dataframe tbody tr th {\n",
              "        vertical-align: top;\n",
              "    }\n",
              "\n",
              "    .dataframe thead th {\n",
              "        text-align: right;\n",
              "    }\n",
              "</style>\n",
              "<table border=\"1\" class=\"dataframe\">\n",
              "  <thead>\n",
              "    <tr style=\"text-align: right;\">\n",
              "      <th></th>\n",
              "      <th>data.set</th>\n",
              "      <th>total.cost</th>\n",
              "      <th>lot.sale.days</th>\n",
              "      <th>overage</th>\n",
              "      <th>mileage</th>\n",
              "      <th>vehicle.type</th>\n",
              "      <th>domestic.import</th>\n",
              "      <th>vehicle.age</th>\n",
              "      <th>vehicle.age.group</th>\n",
              "      <th>color.set</th>\n",
              "      <th>makex</th>\n",
              "      <th>state</th>\n",
              "      <th>make.model</th>\n",
              "    </tr>\n",
              "  </thead>\n",
              "  <tbody>\n",
              "    <tr>\n",
              "      <th>0</th>\n",
              "      <td>TRAIN</td>\n",
              "      <td>4037</td>\n",
              "      <td>135</td>\n",
              "      <td>YES</td>\n",
              "      <td>67341</td>\n",
              "      <td>FAMILY.LARGE</td>\n",
              "      <td>Domestic</td>\n",
              "      <td>8</td>\n",
              "      <td>SEVEN+</td>\n",
              "      <td>SILVER</td>\n",
              "      <td>BUICK</td>\n",
              "      <td>CA</td>\n",
              "      <td>BUICK.CENTURY</td>\n",
              "    </tr>\n",
              "    <tr>\n",
              "      <th>1</th>\n",
              "      <td>TRAIN</td>\n",
              "      <td>6886</td>\n",
              "      <td>114</td>\n",
              "      <td>YES</td>\n",
              "      <td>72823</td>\n",
              "      <td>FAMILY.MEDIUM</td>\n",
              "      <td>Domestic</td>\n",
              "      <td>6</td>\n",
              "      <td>SIX</td>\n",
              "      <td>WHITE</td>\n",
              "      <td>DODGE</td>\n",
              "      <td>AZ</td>\n",
              "      <td>DODGE.NEON</td>\n",
              "    </tr>\n",
              "    <tr>\n",
              "      <th>2</th>\n",
              "      <td>TRAIN</td>\n",
              "      <td>3924</td>\n",
              "      <td>205</td>\n",
              "      <td>YES</td>\n",
              "      <td>96330</td>\n",
              "      <td>FAMILY.MEDIUM</td>\n",
              "      <td>Domestic</td>\n",
              "      <td>9</td>\n",
              "      <td>SEVEN+</td>\n",
              "      <td>WHITE</td>\n",
              "      <td>OLDSMOBILE</td>\n",
              "      <td>FL</td>\n",
              "      <td>OLDSMOBILE.CUTLASS SUPREME</td>\n",
              "    </tr>\n",
              "    <tr>\n",
              "      <th>3</th>\n",
              "      <td>TRAIN</td>\n",
              "      <td>4636</td>\n",
              "      <td>100</td>\n",
              "      <td>YES</td>\n",
              "      <td>58519</td>\n",
              "      <td>ECONOMY</td>\n",
              "      <td>Import</td>\n",
              "      <td>4</td>\n",
              "      <td>FOUR</td>\n",
              "      <td>GOLD</td>\n",
              "      <td>KIA</td>\n",
              "      <td>NV</td>\n",
              "      <td>KIA.SEPHIA</td>\n",
              "    </tr>\n",
              "    <tr>\n",
              "      <th>4</th>\n",
              "      <td>TRAIN</td>\n",
              "      <td>5080</td>\n",
              "      <td>129</td>\n",
              "      <td>YES</td>\n",
              "      <td>99057</td>\n",
              "      <td>FAMILY.MEDIUM</td>\n",
              "      <td>Domestic</td>\n",
              "      <td>4</td>\n",
              "      <td>FOUR</td>\n",
              "      <td>GREEN</td>\n",
              "      <td>OLDSMOBILE</td>\n",
              "      <td>NV</td>\n",
              "      <td>OLDSMOBILE.CUTLASS SUPREME</td>\n",
              "    </tr>\n",
              "  </tbody>\n",
              "</table>\n",
              "</div>\n",
              "      <button class=\"colab-df-convert\" onclick=\"convertToInteractive('df-ce55a0a8-b647-484a-ba38-a94dfec609bc')\"\n",
              "              title=\"Convert this dataframe to an interactive table.\"\n",
              "              style=\"display:none;\">\n",
              "        \n",
              "  <svg xmlns=\"http://www.w3.org/2000/svg\" height=\"24px\"viewBox=\"0 0 24 24\"\n",
              "       width=\"24px\">\n",
              "    <path d=\"M0 0h24v24H0V0z\" fill=\"none\"/>\n",
              "    <path d=\"M18.56 5.44l.94 2.06.94-2.06 2.06-.94-2.06-.94-.94-2.06-.94 2.06-2.06.94zm-11 1L8.5 8.5l.94-2.06 2.06-.94-2.06-.94L8.5 2.5l-.94 2.06-2.06.94zm10 10l.94 2.06.94-2.06 2.06-.94-2.06-.94-.94-2.06-.94 2.06-2.06.94z\"/><path d=\"M17.41 7.96l-1.37-1.37c-.4-.4-.92-.59-1.43-.59-.52 0-1.04.2-1.43.59L10.3 9.45l-7.72 7.72c-.78.78-.78 2.05 0 2.83L4 21.41c.39.39.9.59 1.41.59.51 0 1.02-.2 1.41-.59l7.78-7.78 2.81-2.81c.8-.78.8-2.07 0-2.86zM5.41 20L4 18.59l7.72-7.72 1.47 1.35L5.41 20z\"/>\n",
              "  </svg>\n",
              "      </button>\n",
              "      \n",
              "  <style>\n",
              "    .colab-df-container {\n",
              "      display:flex;\n",
              "      flex-wrap:wrap;\n",
              "      gap: 12px;\n",
              "    }\n",
              "\n",
              "    .colab-df-convert {\n",
              "      background-color: #E8F0FE;\n",
              "      border: none;\n",
              "      border-radius: 50%;\n",
              "      cursor: pointer;\n",
              "      display: none;\n",
              "      fill: #1967D2;\n",
              "      height: 32px;\n",
              "      padding: 0 0 0 0;\n",
              "      width: 32px;\n",
              "    }\n",
              "\n",
              "    .colab-df-convert:hover {\n",
              "      background-color: #E2EBFA;\n",
              "      box-shadow: 0px 1px 2px rgba(60, 64, 67, 0.3), 0px 1px 3px 1px rgba(60, 64, 67, 0.15);\n",
              "      fill: #174EA6;\n",
              "    }\n",
              "\n",
              "    [theme=dark] .colab-df-convert {\n",
              "      background-color: #3B4455;\n",
              "      fill: #D2E3FC;\n",
              "    }\n",
              "\n",
              "    [theme=dark] .colab-df-convert:hover {\n",
              "      background-color: #434B5C;\n",
              "      box-shadow: 0px 1px 3px 1px rgba(0, 0, 0, 0.15);\n",
              "      filter: drop-shadow(0px 1px 2px rgba(0, 0, 0, 0.3));\n",
              "      fill: #FFFFFF;\n",
              "    }\n",
              "  </style>\n",
              "\n",
              "      <script>\n",
              "        const buttonEl =\n",
              "          document.querySelector('#df-ce55a0a8-b647-484a-ba38-a94dfec609bc button.colab-df-convert');\n",
              "        buttonEl.style.display =\n",
              "          google.colab.kernel.accessAllowed ? 'block' : 'none';\n",
              "\n",
              "        async function convertToInteractive(key) {\n",
              "          const element = document.querySelector('#df-ce55a0a8-b647-484a-ba38-a94dfec609bc');\n",
              "          const dataTable =\n",
              "            await google.colab.kernel.invokeFunction('convertToInteractive',\n",
              "                                                     [key], {});\n",
              "          if (!dataTable) return;\n",
              "\n",
              "          const docLinkHtml = 'Like what you see? Visit the ' +\n",
              "            '<a target=\"_blank\" href=https://colab.research.google.com/notebooks/data_table.ipynb>data table notebook</a>'\n",
              "            + ' to learn more about interactive tables.';\n",
              "          element.innerHTML = '';\n",
              "          dataTable['output_type'] = 'display_data';\n",
              "          await google.colab.output.renderOutput(dataTable, element);\n",
              "          const docLink = document.createElement('div');\n",
              "          docLink.innerHTML = docLinkHtml;\n",
              "          element.appendChild(docLink);\n",
              "        }\n",
              "      </script>\n",
              "    </div>\n",
              "  </div>\n",
              "  "
            ]
          },
          "metadata": {},
          "execution_count": 5
        }
      ]
    },
    {
      "cell_type": "code",
      "metadata": {
        "id": "E8YC7iMCupW9",
        "outputId": "2f4a2cbf-ecc4-4c67-ac34-0d01b2d80fc5",
        "colab": {
          "base_uri": "https://localhost:8080/"
        }
      },
      "source": [
        "# Visualizando as informações de colunas do Dataframe\n",
        "df.info()"
      ],
      "execution_count": null,
      "outputs": [
        {
          "output_type": "stream",
          "name": "stdout",
          "text": [
            "<class 'pandas.core.frame.DataFrame'>\n",
            "RangeIndex: 7495 entries, 0 to 7494\n",
            "Data columns (total 13 columns):\n",
            " #   Column             Non-Null Count  Dtype \n",
            "---  ------             --------------  ----- \n",
            " 0   data.set           7495 non-null   object\n",
            " 1   total.cost         7495 non-null   int64 \n",
            " 2   lot.sale.days      7495 non-null   int64 \n",
            " 3   overage            7495 non-null   object\n",
            " 4   mileage            7495 non-null   int64 \n",
            " 5   vehicle.type       7495 non-null   object\n",
            " 6   domestic.import    7495 non-null   object\n",
            " 7   vehicle.age        7495 non-null   int64 \n",
            " 8   vehicle.age.group  7495 non-null   object\n",
            " 9   color.set          7495 non-null   object\n",
            " 10  makex              7495 non-null   object\n",
            " 11  state              7495 non-null   object\n",
            " 12  make.model         7495 non-null   object\n",
            "dtypes: int64(4), object(9)\n",
            "memory usage: 761.3+ KB\n"
          ]
        }
      ]
    },
    {
      "cell_type": "code",
      "metadata": {
        "id": "ng27OTO9upXF",
        "outputId": "260b46cd-da98-4b0f-f854-5f06c2885102",
        "colab": {
          "base_uri": "https://localhost:8080/",
          "height": 300
        }
      },
      "source": [
        "# Informações estatísticas das colunas Dataframe\n",
        "df.describe()"
      ],
      "execution_count": null,
      "outputs": [
        {
          "output_type": "execute_result",
          "data": {
            "text/plain": [
              "        total.cost  lot.sale.days        mileage  vehicle.age\n",
              "count  7495.000000    7495.000000    7495.000000  7495.000000\n",
              "mean   4980.035490      76.454303   77234.533422     5.567312\n",
              "std     937.602064      64.644337   17142.552588     1.756219\n",
              "min    1375.000000       0.000000    1036.000000     1.000000\n",
              "25%    4354.000000      14.000000   67946.000000     4.000000\n",
              "50%    4919.000000      73.000000   78534.000000     5.000000\n",
              "75%    5540.000000     120.000000   89340.000000     7.000000\n",
              "max    9813.000000     300.000000  119250.000000    12.000000"
            ],
            "text/html": [
              "\n",
              "  <div id=\"df-e08d2466-d2f0-4f64-b2ad-bcb977002745\">\n",
              "    <div class=\"colab-df-container\">\n",
              "      <div>\n",
              "<style scoped>\n",
              "    .dataframe tbody tr th:only-of-type {\n",
              "        vertical-align: middle;\n",
              "    }\n",
              "\n",
              "    .dataframe tbody tr th {\n",
              "        vertical-align: top;\n",
              "    }\n",
              "\n",
              "    .dataframe thead th {\n",
              "        text-align: right;\n",
              "    }\n",
              "</style>\n",
              "<table border=\"1\" class=\"dataframe\">\n",
              "  <thead>\n",
              "    <tr style=\"text-align: right;\">\n",
              "      <th></th>\n",
              "      <th>total.cost</th>\n",
              "      <th>lot.sale.days</th>\n",
              "      <th>mileage</th>\n",
              "      <th>vehicle.age</th>\n",
              "    </tr>\n",
              "  </thead>\n",
              "  <tbody>\n",
              "    <tr>\n",
              "      <th>count</th>\n",
              "      <td>7495.000000</td>\n",
              "      <td>7495.000000</td>\n",
              "      <td>7495.000000</td>\n",
              "      <td>7495.000000</td>\n",
              "    </tr>\n",
              "    <tr>\n",
              "      <th>mean</th>\n",
              "      <td>4980.035490</td>\n",
              "      <td>76.454303</td>\n",
              "      <td>77234.533422</td>\n",
              "      <td>5.567312</td>\n",
              "    </tr>\n",
              "    <tr>\n",
              "      <th>std</th>\n",
              "      <td>937.602064</td>\n",
              "      <td>64.644337</td>\n",
              "      <td>17142.552588</td>\n",
              "      <td>1.756219</td>\n",
              "    </tr>\n",
              "    <tr>\n",
              "      <th>min</th>\n",
              "      <td>1375.000000</td>\n",
              "      <td>0.000000</td>\n",
              "      <td>1036.000000</td>\n",
              "      <td>1.000000</td>\n",
              "    </tr>\n",
              "    <tr>\n",
              "      <th>25%</th>\n",
              "      <td>4354.000000</td>\n",
              "      <td>14.000000</td>\n",
              "      <td>67946.000000</td>\n",
              "      <td>4.000000</td>\n",
              "    </tr>\n",
              "    <tr>\n",
              "      <th>50%</th>\n",
              "      <td>4919.000000</td>\n",
              "      <td>73.000000</td>\n",
              "      <td>78534.000000</td>\n",
              "      <td>5.000000</td>\n",
              "    </tr>\n",
              "    <tr>\n",
              "      <th>75%</th>\n",
              "      <td>5540.000000</td>\n",
              "      <td>120.000000</td>\n",
              "      <td>89340.000000</td>\n",
              "      <td>7.000000</td>\n",
              "    </tr>\n",
              "    <tr>\n",
              "      <th>max</th>\n",
              "      <td>9813.000000</td>\n",
              "      <td>300.000000</td>\n",
              "      <td>119250.000000</td>\n",
              "      <td>12.000000</td>\n",
              "    </tr>\n",
              "  </tbody>\n",
              "</table>\n",
              "</div>\n",
              "      <button class=\"colab-df-convert\" onclick=\"convertToInteractive('df-e08d2466-d2f0-4f64-b2ad-bcb977002745')\"\n",
              "              title=\"Convert this dataframe to an interactive table.\"\n",
              "              style=\"display:none;\">\n",
              "        \n",
              "  <svg xmlns=\"http://www.w3.org/2000/svg\" height=\"24px\"viewBox=\"0 0 24 24\"\n",
              "       width=\"24px\">\n",
              "    <path d=\"M0 0h24v24H0V0z\" fill=\"none\"/>\n",
              "    <path d=\"M18.56 5.44l.94 2.06.94-2.06 2.06-.94-2.06-.94-.94-2.06-.94 2.06-2.06.94zm-11 1L8.5 8.5l.94-2.06 2.06-.94-2.06-.94L8.5 2.5l-.94 2.06-2.06.94zm10 10l.94 2.06.94-2.06 2.06-.94-2.06-.94-.94-2.06-.94 2.06-2.06.94z\"/><path d=\"M17.41 7.96l-1.37-1.37c-.4-.4-.92-.59-1.43-.59-.52 0-1.04.2-1.43.59L10.3 9.45l-7.72 7.72c-.78.78-.78 2.05 0 2.83L4 21.41c.39.39.9.59 1.41.59.51 0 1.02-.2 1.41-.59l7.78-7.78 2.81-2.81c.8-.78.8-2.07 0-2.86zM5.41 20L4 18.59l7.72-7.72 1.47 1.35L5.41 20z\"/>\n",
              "  </svg>\n",
              "      </button>\n",
              "      \n",
              "  <style>\n",
              "    .colab-df-container {\n",
              "      display:flex;\n",
              "      flex-wrap:wrap;\n",
              "      gap: 12px;\n",
              "    }\n",
              "\n",
              "    .colab-df-convert {\n",
              "      background-color: #E8F0FE;\n",
              "      border: none;\n",
              "      border-radius: 50%;\n",
              "      cursor: pointer;\n",
              "      display: none;\n",
              "      fill: #1967D2;\n",
              "      height: 32px;\n",
              "      padding: 0 0 0 0;\n",
              "      width: 32px;\n",
              "    }\n",
              "\n",
              "    .colab-df-convert:hover {\n",
              "      background-color: #E2EBFA;\n",
              "      box-shadow: 0px 1px 2px rgba(60, 64, 67, 0.3), 0px 1px 3px 1px rgba(60, 64, 67, 0.15);\n",
              "      fill: #174EA6;\n",
              "    }\n",
              "\n",
              "    [theme=dark] .colab-df-convert {\n",
              "      background-color: #3B4455;\n",
              "      fill: #D2E3FC;\n",
              "    }\n",
              "\n",
              "    [theme=dark] .colab-df-convert:hover {\n",
              "      background-color: #434B5C;\n",
              "      box-shadow: 0px 1px 3px 1px rgba(0, 0, 0, 0.15);\n",
              "      filter: drop-shadow(0px 1px 2px rgba(0, 0, 0, 0.3));\n",
              "      fill: #FFFFFF;\n",
              "    }\n",
              "  </style>\n",
              "\n",
              "      <script>\n",
              "        const buttonEl =\n",
              "          document.querySelector('#df-e08d2466-d2f0-4f64-b2ad-bcb977002745 button.colab-df-convert');\n",
              "        buttonEl.style.display =\n",
              "          google.colab.kernel.accessAllowed ? 'block' : 'none';\n",
              "\n",
              "        async function convertToInteractive(key) {\n",
              "          const element = document.querySelector('#df-e08d2466-d2f0-4f64-b2ad-bcb977002745');\n",
              "          const dataTable =\n",
              "            await google.colab.kernel.invokeFunction('convertToInteractive',\n",
              "                                                     [key], {});\n",
              "          if (!dataTable) return;\n",
              "\n",
              "          const docLinkHtml = 'Like what you see? Visit the ' +\n",
              "            '<a target=\"_blank\" href=https://colab.research.google.com/notebooks/data_table.ipynb>data table notebook</a>'\n",
              "            + ' to learn more about interactive tables.';\n",
              "          element.innerHTML = '';\n",
              "          dataTable['output_type'] = 'display_data';\n",
              "          await google.colab.output.renderOutput(dataTable, element);\n",
              "          const docLink = document.createElement('div');\n",
              "          docLink.innerHTML = docLinkHtml;\n",
              "          element.appendChild(docLink);\n",
              "        }\n",
              "      </script>\n",
              "    </div>\n",
              "  </div>\n",
              "  "
            ]
          },
          "metadata": {},
          "execution_count": 7
        }
      ]
    },
    {
      "cell_type": "code",
      "metadata": {
        "id": "TDN7Mt9EupXN",
        "outputId": "82a408a5-15a6-4a92-8598-393757ea3fa4",
        "colab": {
          "base_uri": "https://localhost:8080/"
        }
      },
      "source": [
        "# Consultando dados nulos ou Missing Values no Dataframe\n",
        "df.isnull().sum()"
      ],
      "execution_count": null,
      "outputs": [
        {
          "output_type": "execute_result",
          "data": {
            "text/plain": [
              "data.set             0\n",
              "total.cost           0\n",
              "lot.sale.days        0\n",
              "overage              0\n",
              "mileage              0\n",
              "vehicle.type         0\n",
              "domestic.import      0\n",
              "vehicle.age          0\n",
              "vehicle.age.group    0\n",
              "color.set            0\n",
              "makex                0\n",
              "state                0\n",
              "make.model           0\n",
              "dtype: int64"
            ]
          },
          "metadata": {},
          "execution_count": 8
        }
      ]
    },
    {
      "cell_type": "markdown",
      "metadata": {
        "id": "G-sX9UPXupZl"
      },
      "source": [
        "## Construindo um Modelo de Machine Learning 🤖\n",
        "\n",
        "Nosso objetivo é prever se o veículo irá passar mais de 90 dias na concessionária sem ser vendido."
      ]
    },
    {
      "cell_type": "code",
      "metadata": {
        "id": "UJaKHq44upZm",
        "outputId": "5e987ae9-7579-4853-d374-5f3229e84849",
        "colab": {
          "base_uri": "https://localhost:8080/",
          "height": 206
        }
      },
      "source": [
        "# visualizando novamente os dados...\n",
        "df.head()"
      ],
      "execution_count": null,
      "outputs": [
        {
          "output_type": "execute_result",
          "data": {
            "text/plain": [
              "  data.set  total.cost  lot.sale.days overage  mileage   vehicle.type  \\\n",
              "0    TRAIN        4037            135     YES    67341   FAMILY.LARGE   \n",
              "1    TRAIN        6886            114     YES    72823  FAMILY.MEDIUM   \n",
              "2    TRAIN        3924            205     YES    96330  FAMILY.MEDIUM   \n",
              "3    TRAIN        4636            100     YES    58519        ECONOMY   \n",
              "4    TRAIN        5080            129     YES    99057  FAMILY.MEDIUM   \n",
              "\n",
              "  domestic.import  vehicle.age vehicle.age.group color.set       makex state  \\\n",
              "0        Domestic            8            SEVEN+    SILVER       BUICK    CA   \n",
              "1        Domestic            6               SIX     WHITE       DODGE    AZ   \n",
              "2        Domestic            9            SEVEN+     WHITE  OLDSMOBILE    FL   \n",
              "3          Import            4              FOUR      GOLD         KIA    NV   \n",
              "4        Domestic            4              FOUR     GREEN  OLDSMOBILE    NV   \n",
              "\n",
              "                   make.model  \n",
              "0               BUICK.CENTURY  \n",
              "1                  DODGE.NEON  \n",
              "2  OLDSMOBILE.CUTLASS SUPREME  \n",
              "3                  KIA.SEPHIA  \n",
              "4  OLDSMOBILE.CUTLASS SUPREME  "
            ],
            "text/html": [
              "\n",
              "  <div id=\"df-cc918201-a33f-48cf-8195-9ad96565866f\">\n",
              "    <div class=\"colab-df-container\">\n",
              "      <div>\n",
              "<style scoped>\n",
              "    .dataframe tbody tr th:only-of-type {\n",
              "        vertical-align: middle;\n",
              "    }\n",
              "\n",
              "    .dataframe tbody tr th {\n",
              "        vertical-align: top;\n",
              "    }\n",
              "\n",
              "    .dataframe thead th {\n",
              "        text-align: right;\n",
              "    }\n",
              "</style>\n",
              "<table border=\"1\" class=\"dataframe\">\n",
              "  <thead>\n",
              "    <tr style=\"text-align: right;\">\n",
              "      <th></th>\n",
              "      <th>data.set</th>\n",
              "      <th>total.cost</th>\n",
              "      <th>lot.sale.days</th>\n",
              "      <th>overage</th>\n",
              "      <th>mileage</th>\n",
              "      <th>vehicle.type</th>\n",
              "      <th>domestic.import</th>\n",
              "      <th>vehicle.age</th>\n",
              "      <th>vehicle.age.group</th>\n",
              "      <th>color.set</th>\n",
              "      <th>makex</th>\n",
              "      <th>state</th>\n",
              "      <th>make.model</th>\n",
              "    </tr>\n",
              "  </thead>\n",
              "  <tbody>\n",
              "    <tr>\n",
              "      <th>0</th>\n",
              "      <td>TRAIN</td>\n",
              "      <td>4037</td>\n",
              "      <td>135</td>\n",
              "      <td>YES</td>\n",
              "      <td>67341</td>\n",
              "      <td>FAMILY.LARGE</td>\n",
              "      <td>Domestic</td>\n",
              "      <td>8</td>\n",
              "      <td>SEVEN+</td>\n",
              "      <td>SILVER</td>\n",
              "      <td>BUICK</td>\n",
              "      <td>CA</td>\n",
              "      <td>BUICK.CENTURY</td>\n",
              "    </tr>\n",
              "    <tr>\n",
              "      <th>1</th>\n",
              "      <td>TRAIN</td>\n",
              "      <td>6886</td>\n",
              "      <td>114</td>\n",
              "      <td>YES</td>\n",
              "      <td>72823</td>\n",
              "      <td>FAMILY.MEDIUM</td>\n",
              "      <td>Domestic</td>\n",
              "      <td>6</td>\n",
              "      <td>SIX</td>\n",
              "      <td>WHITE</td>\n",
              "      <td>DODGE</td>\n",
              "      <td>AZ</td>\n",
              "      <td>DODGE.NEON</td>\n",
              "    </tr>\n",
              "    <tr>\n",
              "      <th>2</th>\n",
              "      <td>TRAIN</td>\n",
              "      <td>3924</td>\n",
              "      <td>205</td>\n",
              "      <td>YES</td>\n",
              "      <td>96330</td>\n",
              "      <td>FAMILY.MEDIUM</td>\n",
              "      <td>Domestic</td>\n",
              "      <td>9</td>\n",
              "      <td>SEVEN+</td>\n",
              "      <td>WHITE</td>\n",
              "      <td>OLDSMOBILE</td>\n",
              "      <td>FL</td>\n",
              "      <td>OLDSMOBILE.CUTLASS SUPREME</td>\n",
              "    </tr>\n",
              "    <tr>\n",
              "      <th>3</th>\n",
              "      <td>TRAIN</td>\n",
              "      <td>4636</td>\n",
              "      <td>100</td>\n",
              "      <td>YES</td>\n",
              "      <td>58519</td>\n",
              "      <td>ECONOMY</td>\n",
              "      <td>Import</td>\n",
              "      <td>4</td>\n",
              "      <td>FOUR</td>\n",
              "      <td>GOLD</td>\n",
              "      <td>KIA</td>\n",
              "      <td>NV</td>\n",
              "      <td>KIA.SEPHIA</td>\n",
              "    </tr>\n",
              "    <tr>\n",
              "      <th>4</th>\n",
              "      <td>TRAIN</td>\n",
              "      <td>5080</td>\n",
              "      <td>129</td>\n",
              "      <td>YES</td>\n",
              "      <td>99057</td>\n",
              "      <td>FAMILY.MEDIUM</td>\n",
              "      <td>Domestic</td>\n",
              "      <td>4</td>\n",
              "      <td>FOUR</td>\n",
              "      <td>GREEN</td>\n",
              "      <td>OLDSMOBILE</td>\n",
              "      <td>NV</td>\n",
              "      <td>OLDSMOBILE.CUTLASS SUPREME</td>\n",
              "    </tr>\n",
              "  </tbody>\n",
              "</table>\n",
              "</div>\n",
              "      <button class=\"colab-df-convert\" onclick=\"convertToInteractive('df-cc918201-a33f-48cf-8195-9ad96565866f')\"\n",
              "              title=\"Convert this dataframe to an interactive table.\"\n",
              "              style=\"display:none;\">\n",
              "        \n",
              "  <svg xmlns=\"http://www.w3.org/2000/svg\" height=\"24px\"viewBox=\"0 0 24 24\"\n",
              "       width=\"24px\">\n",
              "    <path d=\"M0 0h24v24H0V0z\" fill=\"none\"/>\n",
              "    <path d=\"M18.56 5.44l.94 2.06.94-2.06 2.06-.94-2.06-.94-.94-2.06-.94 2.06-2.06.94zm-11 1L8.5 8.5l.94-2.06 2.06-.94-2.06-.94L8.5 2.5l-.94 2.06-2.06.94zm10 10l.94 2.06.94-2.06 2.06-.94-2.06-.94-.94-2.06-.94 2.06-2.06.94z\"/><path d=\"M17.41 7.96l-1.37-1.37c-.4-.4-.92-.59-1.43-.59-.52 0-1.04.2-1.43.59L10.3 9.45l-7.72 7.72c-.78.78-.78 2.05 0 2.83L4 21.41c.39.39.9.59 1.41.59.51 0 1.02-.2 1.41-.59l7.78-7.78 2.81-2.81c.8-.78.8-2.07 0-2.86zM5.41 20L4 18.59l7.72-7.72 1.47 1.35L5.41 20z\"/>\n",
              "  </svg>\n",
              "      </button>\n",
              "      \n",
              "  <style>\n",
              "    .colab-df-container {\n",
              "      display:flex;\n",
              "      flex-wrap:wrap;\n",
              "      gap: 12px;\n",
              "    }\n",
              "\n",
              "    .colab-df-convert {\n",
              "      background-color: #E8F0FE;\n",
              "      border: none;\n",
              "      border-radius: 50%;\n",
              "      cursor: pointer;\n",
              "      display: none;\n",
              "      fill: #1967D2;\n",
              "      height: 32px;\n",
              "      padding: 0 0 0 0;\n",
              "      width: 32px;\n",
              "    }\n",
              "\n",
              "    .colab-df-convert:hover {\n",
              "      background-color: #E2EBFA;\n",
              "      box-shadow: 0px 1px 2px rgba(60, 64, 67, 0.3), 0px 1px 3px 1px rgba(60, 64, 67, 0.15);\n",
              "      fill: #174EA6;\n",
              "    }\n",
              "\n",
              "    [theme=dark] .colab-df-convert {\n",
              "      background-color: #3B4455;\n",
              "      fill: #D2E3FC;\n",
              "    }\n",
              "\n",
              "    [theme=dark] .colab-df-convert:hover {\n",
              "      background-color: #434B5C;\n",
              "      box-shadow: 0px 1px 3px 1px rgba(0, 0, 0, 0.15);\n",
              "      filter: drop-shadow(0px 1px 2px rgba(0, 0, 0, 0.3));\n",
              "      fill: #FFFFFF;\n",
              "    }\n",
              "  </style>\n",
              "\n",
              "      <script>\n",
              "        const buttonEl =\n",
              "          document.querySelector('#df-cc918201-a33f-48cf-8195-9ad96565866f button.colab-df-convert');\n",
              "        buttonEl.style.display =\n",
              "          google.colab.kernel.accessAllowed ? 'block' : 'none';\n",
              "\n",
              "        async function convertToInteractive(key) {\n",
              "          const element = document.querySelector('#df-cc918201-a33f-48cf-8195-9ad96565866f');\n",
              "          const dataTable =\n",
              "            await google.colab.kernel.invokeFunction('convertToInteractive',\n",
              "                                                     [key], {});\n",
              "          if (!dataTable) return;\n",
              "\n",
              "          const docLinkHtml = 'Like what you see? Visit the ' +\n",
              "            '<a target=\"_blank\" href=https://colab.research.google.com/notebooks/data_table.ipynb>data table notebook</a>'\n",
              "            + ' to learn more about interactive tables.';\n",
              "          element.innerHTML = '';\n",
              "          dataTable['output_type'] = 'display_data';\n",
              "          await google.colab.output.renderOutput(dataTable, element);\n",
              "          const docLink = document.createElement('div');\n",
              "          docLink.innerHTML = docLinkHtml;\n",
              "          element.appendChild(docLink);\n",
              "        }\n",
              "      </script>\n",
              "    </div>\n",
              "  </div>\n",
              "  "
            ]
          },
          "metadata": {},
          "execution_count": 11
        }
      ]
    },
    {
      "cell_type": "markdown",
      "metadata": {
        "id": "Lz-GsDgrupZr"
      },
      "source": [
        "**Pre-processando os dados**"
      ]
    },
    {
      "cell_type": "markdown",
      "metadata": {
        "id": "Byd2LQz4upZt"
      },
      "source": [
        "- Precisamos pré-processar algumas colunas, pois, são colunas categóricas.\n",
        "- Nesta etapa também removemos colunas não importantes para o modelo."
      ]
    },
    {
      "cell_type": "markdown",
      "metadata": {
        "id": "IhtwnSKjupZv"
      },
      "source": [
        "Removendo as colunas `vehicle.age.group` e `data.set` (não irão nos interessar nesta análise)"
      ]
    },
    {
      "cell_type": "code",
      "metadata": {
        "id": "8FbqWeZdupZw"
      },
      "source": [
        "df.drop('vehicle.age.group', axis=1, inplace=True)"
      ],
      "execution_count": null,
      "outputs": []
    },
    {
      "cell_type": "code",
      "metadata": {
        "id": "g62HreZrupZ0"
      },
      "source": [
        "df.drop('data.set', axis=1, inplace=True)"
      ],
      "execution_count": null,
      "outputs": []
    },
    {
      "cell_type": "markdown",
      "metadata": {
        "id": "BK3wr16FupZ6"
      },
      "source": [
        "**Aplicando o LabelEncoder para codificação de variáveis categóricas** 💡"
      ]
    },
    {
      "cell_type": "code",
      "metadata": {
        "id": "nMTixybaupZ7"
      },
      "source": [
        "from sklearn.preprocessing import LabelEncoder"
      ],
      "execution_count": null,
      "outputs": []
    },
    {
      "cell_type": "code",
      "metadata": {
        "id": "D2Tb2UxJupaC"
      },
      "source": [
        "label_encoder1 = LabelEncoder()\n",
        "label_encoder2 = LabelEncoder()\n",
        "label_encoder3 = LabelEncoder()\n",
        "label_encoder4 = LabelEncoder()\n",
        "label_encoder5 = LabelEncoder()\n",
        "label_encoder6 = LabelEncoder()"
      ],
      "execution_count": null,
      "outputs": []
    },
    {
      "cell_type": "markdown",
      "metadata": {
        "id": "0zqY_q5bupaI"
      },
      "source": [
        "**Aplica o Labelencoder nos dados categóricos**"
      ]
    },
    {
      "cell_type": "code",
      "metadata": {
        "id": "yBZ-a3WRupaJ"
      },
      "source": [
        "df['vehicle.type'] = label_encoder1.fit_transform(df['vehicle.type'])\n",
        "df['domestic.import'] = label_encoder2.fit_transform(df['domestic.import'])\n",
        "df['color.set'] = label_encoder3.fit_transform(df['color.set'])\n",
        "df['makex'] = label_encoder4.fit_transform(df['makex'])\n",
        "df['state'] = label_encoder5.fit_transform(df['state'])\n",
        "df['make.model'] = label_encoder6.fit_transform(df['make.model'])"
      ],
      "execution_count": null,
      "outputs": []
    },
    {
      "cell_type": "markdown",
      "metadata": {
        "id": "Bykv5i3NupaR"
      },
      "source": [
        "**Dados transformados** 🆗"
      ]
    },
    {
      "cell_type": "code",
      "metadata": {
        "id": "xACsfcEBupaS",
        "outputId": "8875887e-ce27-4bbd-d2ef-a5b173a7be19",
        "colab": {
          "base_uri": "https://localhost:8080/",
          "height": 206
        }
      },
      "source": [
        "df.head()"
      ],
      "execution_count": null,
      "outputs": [
        {
          "output_type": "execute_result",
          "data": {
            "text/plain": [
              "   total.cost  lot.sale.days overage  mileage  vehicle.type  domestic.import  \\\n",
              "0        4037            135     YES    67341             1                0   \n",
              "1        6886            114     YES    72823             2                0   \n",
              "2        3924            205     YES    96330             2                0   \n",
              "3        4636            100     YES    58519             0                1   \n",
              "4        5080            129     YES    99057             2                0   \n",
              "\n",
              "   vehicle.age  color.set  makex  state  make.model  \n",
              "0            8          6      0      1           1  \n",
              "1            6          7      5      0          33  \n",
              "2            9          7     15      2          77  \n",
              "3            4          2     10      5          54  \n",
              "4            4          3     15      5          77  "
            ],
            "text/html": [
              "\n",
              "  <div id=\"df-ee0530e5-f810-4a3a-a545-0e7480cc41f8\">\n",
              "    <div class=\"colab-df-container\">\n",
              "      <div>\n",
              "<style scoped>\n",
              "    .dataframe tbody tr th:only-of-type {\n",
              "        vertical-align: middle;\n",
              "    }\n",
              "\n",
              "    .dataframe tbody tr th {\n",
              "        vertical-align: top;\n",
              "    }\n",
              "\n",
              "    .dataframe thead th {\n",
              "        text-align: right;\n",
              "    }\n",
              "</style>\n",
              "<table border=\"1\" class=\"dataframe\">\n",
              "  <thead>\n",
              "    <tr style=\"text-align: right;\">\n",
              "      <th></th>\n",
              "      <th>total.cost</th>\n",
              "      <th>lot.sale.days</th>\n",
              "      <th>overage</th>\n",
              "      <th>mileage</th>\n",
              "      <th>vehicle.type</th>\n",
              "      <th>domestic.import</th>\n",
              "      <th>vehicle.age</th>\n",
              "      <th>color.set</th>\n",
              "      <th>makex</th>\n",
              "      <th>state</th>\n",
              "      <th>make.model</th>\n",
              "    </tr>\n",
              "  </thead>\n",
              "  <tbody>\n",
              "    <tr>\n",
              "      <th>0</th>\n",
              "      <td>4037</td>\n",
              "      <td>135</td>\n",
              "      <td>YES</td>\n",
              "      <td>67341</td>\n",
              "      <td>1</td>\n",
              "      <td>0</td>\n",
              "      <td>8</td>\n",
              "      <td>6</td>\n",
              "      <td>0</td>\n",
              "      <td>1</td>\n",
              "      <td>1</td>\n",
              "    </tr>\n",
              "    <tr>\n",
              "      <th>1</th>\n",
              "      <td>6886</td>\n",
              "      <td>114</td>\n",
              "      <td>YES</td>\n",
              "      <td>72823</td>\n",
              "      <td>2</td>\n",
              "      <td>0</td>\n",
              "      <td>6</td>\n",
              "      <td>7</td>\n",
              "      <td>5</td>\n",
              "      <td>0</td>\n",
              "      <td>33</td>\n",
              "    </tr>\n",
              "    <tr>\n",
              "      <th>2</th>\n",
              "      <td>3924</td>\n",
              "      <td>205</td>\n",
              "      <td>YES</td>\n",
              "      <td>96330</td>\n",
              "      <td>2</td>\n",
              "      <td>0</td>\n",
              "      <td>9</td>\n",
              "      <td>7</td>\n",
              "      <td>15</td>\n",
              "      <td>2</td>\n",
              "      <td>77</td>\n",
              "    </tr>\n",
              "    <tr>\n",
              "      <th>3</th>\n",
              "      <td>4636</td>\n",
              "      <td>100</td>\n",
              "      <td>YES</td>\n",
              "      <td>58519</td>\n",
              "      <td>0</td>\n",
              "      <td>1</td>\n",
              "      <td>4</td>\n",
              "      <td>2</td>\n",
              "      <td>10</td>\n",
              "      <td>5</td>\n",
              "      <td>54</td>\n",
              "    </tr>\n",
              "    <tr>\n",
              "      <th>4</th>\n",
              "      <td>5080</td>\n",
              "      <td>129</td>\n",
              "      <td>YES</td>\n",
              "      <td>99057</td>\n",
              "      <td>2</td>\n",
              "      <td>0</td>\n",
              "      <td>4</td>\n",
              "      <td>3</td>\n",
              "      <td>15</td>\n",
              "      <td>5</td>\n",
              "      <td>77</td>\n",
              "    </tr>\n",
              "  </tbody>\n",
              "</table>\n",
              "</div>\n",
              "      <button class=\"colab-df-convert\" onclick=\"convertToInteractive('df-ee0530e5-f810-4a3a-a545-0e7480cc41f8')\"\n",
              "              title=\"Convert this dataframe to an interactive table.\"\n",
              "              style=\"display:none;\">\n",
              "        \n",
              "  <svg xmlns=\"http://www.w3.org/2000/svg\" height=\"24px\"viewBox=\"0 0 24 24\"\n",
              "       width=\"24px\">\n",
              "    <path d=\"M0 0h24v24H0V0z\" fill=\"none\"/>\n",
              "    <path d=\"M18.56 5.44l.94 2.06.94-2.06 2.06-.94-2.06-.94-.94-2.06-.94 2.06-2.06.94zm-11 1L8.5 8.5l.94-2.06 2.06-.94-2.06-.94L8.5 2.5l-.94 2.06-2.06.94zm10 10l.94 2.06.94-2.06 2.06-.94-2.06-.94-.94-2.06-.94 2.06-2.06.94z\"/><path d=\"M17.41 7.96l-1.37-1.37c-.4-.4-.92-.59-1.43-.59-.52 0-1.04.2-1.43.59L10.3 9.45l-7.72 7.72c-.78.78-.78 2.05 0 2.83L4 21.41c.39.39.9.59 1.41.59.51 0 1.02-.2 1.41-.59l7.78-7.78 2.81-2.81c.8-.78.8-2.07 0-2.86zM5.41 20L4 18.59l7.72-7.72 1.47 1.35L5.41 20z\"/>\n",
              "  </svg>\n",
              "      </button>\n",
              "      \n",
              "  <style>\n",
              "    .colab-df-container {\n",
              "      display:flex;\n",
              "      flex-wrap:wrap;\n",
              "      gap: 12px;\n",
              "    }\n",
              "\n",
              "    .colab-df-convert {\n",
              "      background-color: #E8F0FE;\n",
              "      border: none;\n",
              "      border-radius: 50%;\n",
              "      cursor: pointer;\n",
              "      display: none;\n",
              "      fill: #1967D2;\n",
              "      height: 32px;\n",
              "      padding: 0 0 0 0;\n",
              "      width: 32px;\n",
              "    }\n",
              "\n",
              "    .colab-df-convert:hover {\n",
              "      background-color: #E2EBFA;\n",
              "      box-shadow: 0px 1px 2px rgba(60, 64, 67, 0.3), 0px 1px 3px 1px rgba(60, 64, 67, 0.15);\n",
              "      fill: #174EA6;\n",
              "    }\n",
              "\n",
              "    [theme=dark] .colab-df-convert {\n",
              "      background-color: #3B4455;\n",
              "      fill: #D2E3FC;\n",
              "    }\n",
              "\n",
              "    [theme=dark] .colab-df-convert:hover {\n",
              "      background-color: #434B5C;\n",
              "      box-shadow: 0px 1px 3px 1px rgba(0, 0, 0, 0.15);\n",
              "      filter: drop-shadow(0px 1px 2px rgba(0, 0, 0, 0.3));\n",
              "      fill: #FFFFFF;\n",
              "    }\n",
              "  </style>\n",
              "\n",
              "      <script>\n",
              "        const buttonEl =\n",
              "          document.querySelector('#df-ee0530e5-f810-4a3a-a545-0e7480cc41f8 button.colab-df-convert');\n",
              "        buttonEl.style.display =\n",
              "          google.colab.kernel.accessAllowed ? 'block' : 'none';\n",
              "\n",
              "        async function convertToInteractive(key) {\n",
              "          const element = document.querySelector('#df-ee0530e5-f810-4a3a-a545-0e7480cc41f8');\n",
              "          const dataTable =\n",
              "            await google.colab.kernel.invokeFunction('convertToInteractive',\n",
              "                                                     [key], {});\n",
              "          if (!dataTable) return;\n",
              "\n",
              "          const docLinkHtml = 'Like what you see? Visit the ' +\n",
              "            '<a target=\"_blank\" href=https://colab.research.google.com/notebooks/data_table.ipynb>data table notebook</a>'\n",
              "            + ' to learn more about interactive tables.';\n",
              "          element.innerHTML = '';\n",
              "          dataTable['output_type'] = 'display_data';\n",
              "          await google.colab.output.renderOutput(dataTable, element);\n",
              "          const docLink = document.createElement('div');\n",
              "          docLink.innerHTML = docLinkHtml;\n",
              "          element.appendChild(docLink);\n",
              "        }\n",
              "      </script>\n",
              "    </div>\n",
              "  </div>\n",
              "  "
            ]
          },
          "metadata": {},
          "execution_count": 17
        }
      ]
    },
    {
      "cell_type": "markdown",
      "metadata": {
        "id": "uSkEklGlupaY"
      },
      "source": [
        "**Separa a classe dos dados**"
      ]
    },
    {
      "cell_type": "code",
      "metadata": {
        "id": "lY8FNnbOupaZ"
      },
      "source": [
        "# nossa variável target será overage (prever se o veículo passará ou não 90 dias na concessionária)\n",
        "y = df['overage']"
      ],
      "execution_count": null,
      "outputs": []
    },
    {
      "cell_type": "code",
      "metadata": {
        "id": "WVybY4qgupad",
        "outputId": "1958d37c-08cc-4c90-a082-16eac2bcf1ce",
        "colab": {
          "base_uri": "https://localhost:8080/"
        }
      },
      "source": [
        "y.head()"
      ],
      "execution_count": null,
      "outputs": [
        {
          "output_type": "execute_result",
          "data": {
            "text/plain": [
              "0    YES\n",
              "1    YES\n",
              "2    YES\n",
              "3    YES\n",
              "4    YES\n",
              "Name: overage, dtype: object"
            ]
          },
          "metadata": {},
          "execution_count": 19
        }
      ]
    },
    {
      "cell_type": "markdown",
      "metadata": {
        "id": "OTfNmHjfupah"
      },
      "source": [
        "Apaga as colunas `overage` e `lot.days.sales` para não enviesar o modelo"
      ]
    },
    {
      "cell_type": "code",
      "metadata": {
        "id": "9lWXbAXnupai"
      },
      "source": [
        "# variáveis preditoras (X)\n",
        "X = df.drop(['lot.sale.days','overage'], axis=1)"
      ],
      "execution_count": null,
      "outputs": []
    },
    {
      "cell_type": "code",
      "metadata": {
        "id": "4WlFHlhkupao",
        "outputId": "a619906a-a34d-497c-9222-ac43af92a6de",
        "colab": {
          "base_uri": "https://localhost:8080/",
          "height": 206
        }
      },
      "source": [
        "# Visualizando nosso X\n",
        "X.head()"
      ],
      "execution_count": null,
      "outputs": [
        {
          "output_type": "execute_result",
          "data": {
            "text/plain": [
              "   total.cost  mileage  vehicle.type  domestic.import  vehicle.age  color.set  \\\n",
              "0        4037    67341             1                0            8          6   \n",
              "1        6886    72823             2                0            6          7   \n",
              "2        3924    96330             2                0            9          7   \n",
              "3        4636    58519             0                1            4          2   \n",
              "4        5080    99057             2                0            4          3   \n",
              "\n",
              "   makex  state  make.model  \n",
              "0      0      1           1  \n",
              "1      5      0          33  \n",
              "2     15      2          77  \n",
              "3     10      5          54  \n",
              "4     15      5          77  "
            ],
            "text/html": [
              "\n",
              "  <div id=\"df-d7c24751-e852-435d-93f3-c613534ab573\">\n",
              "    <div class=\"colab-df-container\">\n",
              "      <div>\n",
              "<style scoped>\n",
              "    .dataframe tbody tr th:only-of-type {\n",
              "        vertical-align: middle;\n",
              "    }\n",
              "\n",
              "    .dataframe tbody tr th {\n",
              "        vertical-align: top;\n",
              "    }\n",
              "\n",
              "    .dataframe thead th {\n",
              "        text-align: right;\n",
              "    }\n",
              "</style>\n",
              "<table border=\"1\" class=\"dataframe\">\n",
              "  <thead>\n",
              "    <tr style=\"text-align: right;\">\n",
              "      <th></th>\n",
              "      <th>total.cost</th>\n",
              "      <th>mileage</th>\n",
              "      <th>vehicle.type</th>\n",
              "      <th>domestic.import</th>\n",
              "      <th>vehicle.age</th>\n",
              "      <th>color.set</th>\n",
              "      <th>makex</th>\n",
              "      <th>state</th>\n",
              "      <th>make.model</th>\n",
              "    </tr>\n",
              "  </thead>\n",
              "  <tbody>\n",
              "    <tr>\n",
              "      <th>0</th>\n",
              "      <td>4037</td>\n",
              "      <td>67341</td>\n",
              "      <td>1</td>\n",
              "      <td>0</td>\n",
              "      <td>8</td>\n",
              "      <td>6</td>\n",
              "      <td>0</td>\n",
              "      <td>1</td>\n",
              "      <td>1</td>\n",
              "    </tr>\n",
              "    <tr>\n",
              "      <th>1</th>\n",
              "      <td>6886</td>\n",
              "      <td>72823</td>\n",
              "      <td>2</td>\n",
              "      <td>0</td>\n",
              "      <td>6</td>\n",
              "      <td>7</td>\n",
              "      <td>5</td>\n",
              "      <td>0</td>\n",
              "      <td>33</td>\n",
              "    </tr>\n",
              "    <tr>\n",
              "      <th>2</th>\n",
              "      <td>3924</td>\n",
              "      <td>96330</td>\n",
              "      <td>2</td>\n",
              "      <td>0</td>\n",
              "      <td>9</td>\n",
              "      <td>7</td>\n",
              "      <td>15</td>\n",
              "      <td>2</td>\n",
              "      <td>77</td>\n",
              "    </tr>\n",
              "    <tr>\n",
              "      <th>3</th>\n",
              "      <td>4636</td>\n",
              "      <td>58519</td>\n",
              "      <td>0</td>\n",
              "      <td>1</td>\n",
              "      <td>4</td>\n",
              "      <td>2</td>\n",
              "      <td>10</td>\n",
              "      <td>5</td>\n",
              "      <td>54</td>\n",
              "    </tr>\n",
              "    <tr>\n",
              "      <th>4</th>\n",
              "      <td>5080</td>\n",
              "      <td>99057</td>\n",
              "      <td>2</td>\n",
              "      <td>0</td>\n",
              "      <td>4</td>\n",
              "      <td>3</td>\n",
              "      <td>15</td>\n",
              "      <td>5</td>\n",
              "      <td>77</td>\n",
              "    </tr>\n",
              "  </tbody>\n",
              "</table>\n",
              "</div>\n",
              "      <button class=\"colab-df-convert\" onclick=\"convertToInteractive('df-d7c24751-e852-435d-93f3-c613534ab573')\"\n",
              "              title=\"Convert this dataframe to an interactive table.\"\n",
              "              style=\"display:none;\">\n",
              "        \n",
              "  <svg xmlns=\"http://www.w3.org/2000/svg\" height=\"24px\"viewBox=\"0 0 24 24\"\n",
              "       width=\"24px\">\n",
              "    <path d=\"M0 0h24v24H0V0z\" fill=\"none\"/>\n",
              "    <path d=\"M18.56 5.44l.94 2.06.94-2.06 2.06-.94-2.06-.94-.94-2.06-.94 2.06-2.06.94zm-11 1L8.5 8.5l.94-2.06 2.06-.94-2.06-.94L8.5 2.5l-.94 2.06-2.06.94zm10 10l.94 2.06.94-2.06 2.06-.94-2.06-.94-.94-2.06-.94 2.06-2.06.94z\"/><path d=\"M17.41 7.96l-1.37-1.37c-.4-.4-.92-.59-1.43-.59-.52 0-1.04.2-1.43.59L10.3 9.45l-7.72 7.72c-.78.78-.78 2.05 0 2.83L4 21.41c.39.39.9.59 1.41.59.51 0 1.02-.2 1.41-.59l7.78-7.78 2.81-2.81c.8-.78.8-2.07 0-2.86zM5.41 20L4 18.59l7.72-7.72 1.47 1.35L5.41 20z\"/>\n",
              "  </svg>\n",
              "      </button>\n",
              "      \n",
              "  <style>\n",
              "    .colab-df-container {\n",
              "      display:flex;\n",
              "      flex-wrap:wrap;\n",
              "      gap: 12px;\n",
              "    }\n",
              "\n",
              "    .colab-df-convert {\n",
              "      background-color: #E8F0FE;\n",
              "      border: none;\n",
              "      border-radius: 50%;\n",
              "      cursor: pointer;\n",
              "      display: none;\n",
              "      fill: #1967D2;\n",
              "      height: 32px;\n",
              "      padding: 0 0 0 0;\n",
              "      width: 32px;\n",
              "    }\n",
              "\n",
              "    .colab-df-convert:hover {\n",
              "      background-color: #E2EBFA;\n",
              "      box-shadow: 0px 1px 2px rgba(60, 64, 67, 0.3), 0px 1px 3px 1px rgba(60, 64, 67, 0.15);\n",
              "      fill: #174EA6;\n",
              "    }\n",
              "\n",
              "    [theme=dark] .colab-df-convert {\n",
              "      background-color: #3B4455;\n",
              "      fill: #D2E3FC;\n",
              "    }\n",
              "\n",
              "    [theme=dark] .colab-df-convert:hover {\n",
              "      background-color: #434B5C;\n",
              "      box-shadow: 0px 1px 3px 1px rgba(0, 0, 0, 0.15);\n",
              "      filter: drop-shadow(0px 1px 2px rgba(0, 0, 0, 0.3));\n",
              "      fill: #FFFFFF;\n",
              "    }\n",
              "  </style>\n",
              "\n",
              "      <script>\n",
              "        const buttonEl =\n",
              "          document.querySelector('#df-d7c24751-e852-435d-93f3-c613534ab573 button.colab-df-convert');\n",
              "        buttonEl.style.display =\n",
              "          google.colab.kernel.accessAllowed ? 'block' : 'none';\n",
              "\n",
              "        async function convertToInteractive(key) {\n",
              "          const element = document.querySelector('#df-d7c24751-e852-435d-93f3-c613534ab573');\n",
              "          const dataTable =\n",
              "            await google.colab.kernel.invokeFunction('convertToInteractive',\n",
              "                                                     [key], {});\n",
              "          if (!dataTable) return;\n",
              "\n",
              "          const docLinkHtml = 'Like what you see? Visit the ' +\n",
              "            '<a target=\"_blank\" href=https://colab.research.google.com/notebooks/data_table.ipynb>data table notebook</a>'\n",
              "            + ' to learn more about interactive tables.';\n",
              "          element.innerHTML = '';\n",
              "          dataTable['output_type'] = 'display_data';\n",
              "          await google.colab.output.renderOutput(dataTable, element);\n",
              "          const docLink = document.createElement('div');\n",
              "          docLink.innerHTML = docLinkHtml;\n",
              "          element.appendChild(docLink);\n",
              "        }\n",
              "      </script>\n",
              "    </div>\n",
              "  </div>\n",
              "  "
            ]
          },
          "metadata": {},
          "execution_count": 21
        }
      ]
    },
    {
      "cell_type": "markdown",
      "metadata": {
        "id": "Hx1BN00kupav"
      },
      "source": [
        "**Separando os dados de treino e teste**"
      ]
    },
    {
      "cell_type": "code",
      "metadata": {
        "id": "v0Yq_nieupaw"
      },
      "source": [
        "from sklearn.model_selection import train_test_split"
      ],
      "execution_count": null,
      "outputs": []
    },
    {
      "cell_type": "code",
      "metadata": {
        "id": "XrWdn3yrupaz"
      },
      "source": [
        "X_treino, X_teste, y_treino, y_teste = train_test_split(X, y)"
      ],
      "execution_count": null,
      "outputs": []
    },
    {
      "cell_type": "markdown",
      "metadata": {
        "id": "fMeTQs0SupbX"
      },
      "source": [
        "**Aplicando Machine Learning com Random Forest** 🌳🌳🌳"
      ]
    },
    {
      "cell_type": "code",
      "metadata": {
        "id": "36t7iKWfupbY"
      },
      "source": [
        "from sklearn.ensemble import RandomForestClassifier"
      ],
      "execution_count": null,
      "outputs": []
    },
    {
      "cell_type": "code",
      "metadata": {
        "id": "SYXjACefupbc",
        "colab": {
          "base_uri": "https://localhost:8080/"
        },
        "outputId": "c4f5b7b2-1639-49f2-cb1b-f3af4113e1c0"
      },
      "source": [
        "# n_estimators = 100 - número de árvores na floresta (padrão é 10)\n",
        "# criterion='entropy'\n",
        "# random_state=0 (gerar sempre o mesmo resultado)\n",
        "\n",
        "floresta = RandomForestClassifier(n_estimators = 100, criterion='entropy', random_state=1)\n",
        "floresta.fit(X_treino, y_treino) # treinando o modelo"
      ],
      "execution_count": null,
      "outputs": [
        {
          "output_type": "execute_result",
          "data": {
            "text/plain": [
              "RandomForestClassifier(criterion='entropy', random_state=1)"
            ]
          },
          "metadata": {},
          "execution_count": 27
        }
      ]
    },
    {
      "cell_type": "markdown",
      "metadata": {
        "id": "LGk4-lhtupbn"
      },
      "source": [
        "**Validação do Modelo**"
      ]
    },
    {
      "cell_type": "code",
      "metadata": {
        "id": "6zaqpR77upbp",
        "outputId": "4b478248-1414-4be9-d55a-23e9dd2d723e",
        "colab": {
          "base_uri": "https://localhost:8080/",
          "height": 206
        }
      },
      "source": [
        "X_teste.head()"
      ],
      "execution_count": null,
      "outputs": [
        {
          "output_type": "execute_result",
          "data": {
            "text/plain": [
              "      total.cost  mileage  vehicle.type  domestic.import  vehicle.age  \\\n",
              "6310        6690    91710             4                1            6   \n",
              "5516        6413    53504             0                0            4   \n",
              "885         4561   101108             2                0            8   \n",
              "4887        4528   105202             2                1            9   \n",
              "5005        5691    88678             2                1            6   \n",
              "\n",
              "      color.set  makex  state  make.model  \n",
              "6310          4     14      6          67  \n",
              "5516          1      5      3          33  \n",
              "885           6     18      0          82  \n",
              "4887          4     19      0          92  \n",
              "5005          3     19      0          92  "
            ],
            "text/html": [
              "\n",
              "  <div id=\"df-fff7b379-75c2-4017-9f2e-9ac597fa6870\">\n",
              "    <div class=\"colab-df-container\">\n",
              "      <div>\n",
              "<style scoped>\n",
              "    .dataframe tbody tr th:only-of-type {\n",
              "        vertical-align: middle;\n",
              "    }\n",
              "\n",
              "    .dataframe tbody tr th {\n",
              "        vertical-align: top;\n",
              "    }\n",
              "\n",
              "    .dataframe thead th {\n",
              "        text-align: right;\n",
              "    }\n",
              "</style>\n",
              "<table border=\"1\" class=\"dataframe\">\n",
              "  <thead>\n",
              "    <tr style=\"text-align: right;\">\n",
              "      <th></th>\n",
              "      <th>total.cost</th>\n",
              "      <th>mileage</th>\n",
              "      <th>vehicle.type</th>\n",
              "      <th>domestic.import</th>\n",
              "      <th>vehicle.age</th>\n",
              "      <th>color.set</th>\n",
              "      <th>makex</th>\n",
              "      <th>state</th>\n",
              "      <th>make.model</th>\n",
              "    </tr>\n",
              "  </thead>\n",
              "  <tbody>\n",
              "    <tr>\n",
              "      <th>6310</th>\n",
              "      <td>6690</td>\n",
              "      <td>91710</td>\n",
              "      <td>4</td>\n",
              "      <td>1</td>\n",
              "      <td>6</td>\n",
              "      <td>4</td>\n",
              "      <td>14</td>\n",
              "      <td>6</td>\n",
              "      <td>67</td>\n",
              "    </tr>\n",
              "    <tr>\n",
              "      <th>5516</th>\n",
              "      <td>6413</td>\n",
              "      <td>53504</td>\n",
              "      <td>0</td>\n",
              "      <td>0</td>\n",
              "      <td>4</td>\n",
              "      <td>1</td>\n",
              "      <td>5</td>\n",
              "      <td>3</td>\n",
              "      <td>33</td>\n",
              "    </tr>\n",
              "    <tr>\n",
              "      <th>885</th>\n",
              "      <td>4561</td>\n",
              "      <td>101108</td>\n",
              "      <td>2</td>\n",
              "      <td>0</td>\n",
              "      <td>8</td>\n",
              "      <td>6</td>\n",
              "      <td>18</td>\n",
              "      <td>0</td>\n",
              "      <td>82</td>\n",
              "    </tr>\n",
              "    <tr>\n",
              "      <th>4887</th>\n",
              "      <td>4528</td>\n",
              "      <td>105202</td>\n",
              "      <td>2</td>\n",
              "      <td>1</td>\n",
              "      <td>9</td>\n",
              "      <td>4</td>\n",
              "      <td>19</td>\n",
              "      <td>0</td>\n",
              "      <td>92</td>\n",
              "    </tr>\n",
              "    <tr>\n",
              "      <th>5005</th>\n",
              "      <td>5691</td>\n",
              "      <td>88678</td>\n",
              "      <td>2</td>\n",
              "      <td>1</td>\n",
              "      <td>6</td>\n",
              "      <td>3</td>\n",
              "      <td>19</td>\n",
              "      <td>0</td>\n",
              "      <td>92</td>\n",
              "    </tr>\n",
              "  </tbody>\n",
              "</table>\n",
              "</div>\n",
              "      <button class=\"colab-df-convert\" onclick=\"convertToInteractive('df-fff7b379-75c2-4017-9f2e-9ac597fa6870')\"\n",
              "              title=\"Convert this dataframe to an interactive table.\"\n",
              "              style=\"display:none;\">\n",
              "        \n",
              "  <svg xmlns=\"http://www.w3.org/2000/svg\" height=\"24px\"viewBox=\"0 0 24 24\"\n",
              "       width=\"24px\">\n",
              "    <path d=\"M0 0h24v24H0V0z\" fill=\"none\"/>\n",
              "    <path d=\"M18.56 5.44l.94 2.06.94-2.06 2.06-.94-2.06-.94-.94-2.06-.94 2.06-2.06.94zm-11 1L8.5 8.5l.94-2.06 2.06-.94-2.06-.94L8.5 2.5l-.94 2.06-2.06.94zm10 10l.94 2.06.94-2.06 2.06-.94-2.06-.94-.94-2.06-.94 2.06-2.06.94z\"/><path d=\"M17.41 7.96l-1.37-1.37c-.4-.4-.92-.59-1.43-.59-.52 0-1.04.2-1.43.59L10.3 9.45l-7.72 7.72c-.78.78-.78 2.05 0 2.83L4 21.41c.39.39.9.59 1.41.59.51 0 1.02-.2 1.41-.59l7.78-7.78 2.81-2.81c.8-.78.8-2.07 0-2.86zM5.41 20L4 18.59l7.72-7.72 1.47 1.35L5.41 20z\"/>\n",
              "  </svg>\n",
              "      </button>\n",
              "      \n",
              "  <style>\n",
              "    .colab-df-container {\n",
              "      display:flex;\n",
              "      flex-wrap:wrap;\n",
              "      gap: 12px;\n",
              "    }\n",
              "\n",
              "    .colab-df-convert {\n",
              "      background-color: #E8F0FE;\n",
              "      border: none;\n",
              "      border-radius: 50%;\n",
              "      cursor: pointer;\n",
              "      display: none;\n",
              "      fill: #1967D2;\n",
              "      height: 32px;\n",
              "      padding: 0 0 0 0;\n",
              "      width: 32px;\n",
              "    }\n",
              "\n",
              "    .colab-df-convert:hover {\n",
              "      background-color: #E2EBFA;\n",
              "      box-shadow: 0px 1px 2px rgba(60, 64, 67, 0.3), 0px 1px 3px 1px rgba(60, 64, 67, 0.15);\n",
              "      fill: #174EA6;\n",
              "    }\n",
              "\n",
              "    [theme=dark] .colab-df-convert {\n",
              "      background-color: #3B4455;\n",
              "      fill: #D2E3FC;\n",
              "    }\n",
              "\n",
              "    [theme=dark] .colab-df-convert:hover {\n",
              "      background-color: #434B5C;\n",
              "      box-shadow: 0px 1px 3px 1px rgba(0, 0, 0, 0.15);\n",
              "      filter: drop-shadow(0px 1px 2px rgba(0, 0, 0, 0.3));\n",
              "      fill: #FFFFFF;\n",
              "    }\n",
              "  </style>\n",
              "\n",
              "      <script>\n",
              "        const buttonEl =\n",
              "          document.querySelector('#df-fff7b379-75c2-4017-9f2e-9ac597fa6870 button.colab-df-convert');\n",
              "        buttonEl.style.display =\n",
              "          google.colab.kernel.accessAllowed ? 'block' : 'none';\n",
              "\n",
              "        async function convertToInteractive(key) {\n",
              "          const element = document.querySelector('#df-fff7b379-75c2-4017-9f2e-9ac597fa6870');\n",
              "          const dataTable =\n",
              "            await google.colab.kernel.invokeFunction('convertToInteractive',\n",
              "                                                     [key], {});\n",
              "          if (!dataTable) return;\n",
              "\n",
              "          const docLinkHtml = 'Like what you see? Visit the ' +\n",
              "            '<a target=\"_blank\" href=https://colab.research.google.com/notebooks/data_table.ipynb>data table notebook</a>'\n",
              "            + ' to learn more about interactive tables.';\n",
              "          element.innerHTML = '';\n",
              "          dataTable['output_type'] = 'display_data';\n",
              "          await google.colab.output.renderOutput(dataTable, element);\n",
              "          const docLink = document.createElement('div');\n",
              "          docLink.innerHTML = docLinkHtml;\n",
              "          element.appendChild(docLink);\n",
              "        }\n",
              "      </script>\n",
              "    </div>\n",
              "  </div>\n",
              "  "
            ]
          },
          "metadata": {},
          "execution_count": 55
        }
      ]
    },
    {
      "cell_type": "code",
      "metadata": {
        "id": "1KVXfwq5upbs",
        "outputId": "db349a81-417c-47f3-f921-878eac8f80b6",
        "colab": {
          "base_uri": "https://localhost:8080/"
        }
      },
      "source": [
        "# testando o modelo\n",
        "floresta.predict(X_teste)"
      ],
      "execution_count": null,
      "outputs": [
        {
          "output_type": "execute_result",
          "data": {
            "text/plain": [
              "array(['YES', 'NO', 'NO', ..., 'NO', 'NO', 'NO'], dtype=object)"
            ]
          },
          "metadata": {},
          "execution_count": 28
        }
      ]
    },
    {
      "cell_type": "code",
      "metadata": {
        "id": "Uey-oXnxupbx"
      },
      "source": [
        "resultado = floresta.predict(X_teste)"
      ],
      "execution_count": null,
      "outputs": []
    },
    {
      "cell_type": "code",
      "metadata": {
        "id": "Kfkw0KBBupb2",
        "outputId": "712b2f70-faf1-4b12-92ae-8d7017db9283",
        "colab": {
          "base_uri": "https://localhost:8080/"
        }
      },
      "source": [
        "resultado"
      ],
      "execution_count": null,
      "outputs": [
        {
          "output_type": "execute_result",
          "data": {
            "text/plain": [
              "array(['NO', 'YES', 'YES', ..., 'YES', 'NO', 'NO'], dtype=object)"
            ]
          },
          "metadata": {},
          "execution_count": 58
        }
      ]
    },
    {
      "cell_type": "markdown",
      "source": [
        "Visualizando as métricas do nosso modelo..."
      ],
      "metadata": {
        "id": "l3YJ5ECJXRj2"
      }
    },
    {
      "cell_type": "code",
      "metadata": {
        "id": "SKIUf2z6upb6",
        "outputId": "3296385f-2e44-4b96-ab82-27ca8525eda6",
        "colab": {
          "base_uri": "https://localhost:8080/"
        }
      },
      "source": [
        "from sklearn import metrics\n",
        "print(metrics.classification_report(y_teste,resultado))"
      ],
      "execution_count": null,
      "outputs": [
        {
          "output_type": "stream",
          "name": "stdout",
          "text": [
            "              precision    recall  f1-score   support\n",
            "\n",
            "          NO       0.70      0.75      0.72       986\n",
            "         YES       0.70      0.64      0.67       888\n",
            "\n",
            "    accuracy                           0.70      1874\n",
            "   macro avg       0.70      0.70      0.70      1874\n",
            "weighted avg       0.70      0.70      0.70      1874\n",
            "\n"
          ]
        }
      ]
    },
    {
      "cell_type": "markdown",
      "metadata": {
        "id": "EWSxt_lqupb_"
      },
      "source": [
        "Estes foram os resultado para [Árvore de Decisão](https://colab.research.google.com/drive/1DjjLYneLw7pZxuKNnxFCmSgwgBsauQOS?usp=drive_fs#scrollTo=SKIUf2z6upb6&forceEdit=true&sandboxMode=true), que vimos anteriormente...\n",
        "\n",
        "              precision    recall  f1-score   support\n",
        "          NO       0.64      0.63      0.64       989\n",
        "         YES       0.60      0.61      0.60       885\n",
        "\n",
        "    accuracy                           0.62      1874\n",
        "    macro avg      0.62      0.62      0.62      1874\n",
        "    weighted avg   0.62      0.62      0.62      1874\n",
        "\n",
        "\n",
        "***Agora, com Random Forest, observem como o desempenho do modelo melhorou:***\n",
        "- Tivemos uma precisão de 67% para classificar carros que superam os 90 dias.\n",
        "- O modelo pode melhorar ainda mais se trabalharmos mais nos dados, e com um trabalho de `engenharia de features`."
      ]
    },
    {
      "cell_type": "markdown",
      "source": [
        "Matrix de Confusão"
      ],
      "metadata": {
        "id": "PZjSEkRCLDCL"
      }
    },
    {
      "cell_type": "code",
      "source": [
        "from sklearn.metrics import confusion_matrix, accuracy_score\n",
        "previsoes = floresta.predict(X_teste)\n",
        "confusao = confusion_matrix(y_teste, resultado)\n",
        "confusao"
      ],
      "metadata": {
        "colab": {
          "base_uri": "https://localhost:8080/"
        },
        "id": "E4EX57c1Kw1d",
        "outputId": "78748a1d-003f-4081-d93d-8ef562035dcf"
      },
      "execution_count": null,
      "outputs": [
        {
          "output_type": "execute_result",
          "data": {
            "text/plain": [
              "array([[739, 247],\n",
              "       [319, 569]])"
            ]
          },
          "metadata": {},
          "execution_count": 32
        }
      ]
    },
    {
      "cell_type": "markdown",
      "source": [
        "Taxa de acerto"
      ],
      "metadata": {
        "id": "gEb0HUoZLKWs"
      }
    },
    {
      "cell_type": "code",
      "source": [
        "taxa_acerto = accuracy_score(y_teste, previsoes)\n",
        "taxa_acerto"
      ],
      "metadata": {
        "colab": {
          "base_uri": "https://localhost:8080/"
        },
        "id": "8KJqMSXjLIHE",
        "outputId": "99b5349e-a8eb-4a77-9757-d75596f04f00"
      },
      "execution_count": null,
      "outputs": [
        {
          "output_type": "execute_result",
          "data": {
            "text/plain": [
              "0.6979722518676628"
            ]
          },
          "metadata": {},
          "execution_count": 33
        }
      ]
    },
    {
      "cell_type": "markdown",
      "source": [
        "Estimadores"
      ],
      "metadata": {
        "id": "7jCjXGeRLaO6"
      }
    },
    {
      "cell_type": "code",
      "source": [
        "# mostra as 100 árvores (n_estimators)\n",
        "floresta.estimators_"
      ],
      "metadata": {
        "colab": {
          "base_uri": "https://localhost:8080/"
        },
        "id": "2Vbh0uwHLYiv",
        "outputId": "717ce5fe-183a-418c-8a0c-d8e237ff49d9"
      },
      "execution_count": null,
      "outputs": [
        {
          "output_type": "execute_result",
          "data": {
            "text/plain": [
              "[DecisionTreeClassifier(criterion='entropy', max_features='auto',\n",
              "                        random_state=1791095845),\n",
              " DecisionTreeClassifier(criterion='entropy', max_features='auto',\n",
              "                        random_state=2135392491),\n",
              " DecisionTreeClassifier(criterion='entropy', max_features='auto',\n",
              "                        random_state=946286476),\n",
              " DecisionTreeClassifier(criterion='entropy', max_features='auto',\n",
              "                        random_state=1857819720),\n",
              " DecisionTreeClassifier(criterion='entropy', max_features='auto',\n",
              "                        random_state=491263),\n",
              " DecisionTreeClassifier(criterion='entropy', max_features='auto',\n",
              "                        random_state=550290313),\n",
              " DecisionTreeClassifier(criterion='entropy', max_features='auto',\n",
              "                        random_state=1298508491),\n",
              " DecisionTreeClassifier(criterion='entropy', max_features='auto',\n",
              "                        random_state=2143362693),\n",
              " DecisionTreeClassifier(criterion='entropy', max_features='auto',\n",
              "                        random_state=630311759),\n",
              " DecisionTreeClassifier(criterion='entropy', max_features='auto',\n",
              "                        random_state=1013994432),\n",
              " DecisionTreeClassifier(criterion='entropy', max_features='auto',\n",
              "                        random_state=396591248),\n",
              " DecisionTreeClassifier(criterion='entropy', max_features='auto',\n",
              "                        random_state=1703301249),\n",
              " DecisionTreeClassifier(criterion='entropy', max_features='auto',\n",
              "                        random_state=799981516),\n",
              " DecisionTreeClassifier(criterion='entropy', max_features='auto',\n",
              "                        random_state=1666063943),\n",
              " DecisionTreeClassifier(criterion='entropy', max_features='auto',\n",
              "                        random_state=1484172013),\n",
              " DecisionTreeClassifier(criterion='entropy', max_features='auto',\n",
              "                        random_state=729053692),\n",
              " DecisionTreeClassifier(criterion='entropy', max_features='auto',\n",
              "                        random_state=1704103302),\n",
              " DecisionTreeClassifier(criterion='entropy', max_features='auto',\n",
              "                        random_state=1870626073),\n",
              " DecisionTreeClassifier(criterion='entropy', max_features='auto',\n",
              "                        random_state=166716594),\n",
              " DecisionTreeClassifier(criterion='entropy', max_features='auto',\n",
              "                        random_state=1487394068),\n",
              " DecisionTreeClassifier(criterion='entropy', max_features='auto',\n",
              "                        random_state=1800426750),\n",
              " DecisionTreeClassifier(criterion='entropy', max_features='auto',\n",
              "                        random_state=1345499493),\n",
              " DecisionTreeClassifier(criterion='entropy', max_features='auto',\n",
              "                        random_state=795511698),\n",
              " DecisionTreeClassifier(criterion='entropy', max_features='auto',\n",
              "                        random_state=105433556),\n",
              " DecisionTreeClassifier(criterion='entropy', max_features='auto',\n",
              "                        random_state=878115723),\n",
              " DecisionTreeClassifier(criterion='entropy', max_features='auto',\n",
              "                        random_state=1904615676),\n",
              " DecisionTreeClassifier(criterion='entropy', max_features='auto',\n",
              "                        random_state=1624002026),\n",
              " DecisionTreeClassifier(criterion='entropy', max_features='auto',\n",
              "                        random_state=986026652),\n",
              " DecisionTreeClassifier(criterion='entropy', max_features='auto',\n",
              "                        random_state=117628829),\n",
              " DecisionTreeClassifier(criterion='entropy', max_features='auto',\n",
              "                        random_state=147806606),\n",
              " DecisionTreeClassifier(criterion='entropy', max_features='auto',\n",
              "                        random_state=732152370),\n",
              " DecisionTreeClassifier(criterion='entropy', max_features='auto',\n",
              "                        random_state=1777953348),\n",
              " DecisionTreeClassifier(criterion='entropy', max_features='auto',\n",
              "                        random_state=1792310487),\n",
              " DecisionTreeClassifier(criterion='entropy', max_features='auto',\n",
              "                        random_state=1963679703),\n",
              " DecisionTreeClassifier(criterion='entropy', max_features='auto',\n",
              "                        random_state=252070889),\n",
              " DecisionTreeClassifier(criterion='entropy', max_features='auto',\n",
              "                        random_state=1849836273),\n",
              " DecisionTreeClassifier(criterion='entropy', max_features='auto',\n",
              "                        random_state=602957303),\n",
              " DecisionTreeClassifier(criterion='entropy', max_features='auto',\n",
              "                        random_state=1886039518),\n",
              " DecisionTreeClassifier(criterion='entropy', max_features='auto',\n",
              "                        random_state=850839392),\n",
              " DecisionTreeClassifier(criterion='entropy', max_features='auto',\n",
              "                        random_state=1195672662),\n",
              " DecisionTreeClassifier(criterion='entropy', max_features='auto',\n",
              "                        random_state=1291688077),\n",
              " DecisionTreeClassifier(criterion='entropy', max_features='auto',\n",
              "                        random_state=927586281),\n",
              " DecisionTreeClassifier(criterion='entropy', max_features='auto',\n",
              "                        random_state=2011168137),\n",
              " DecisionTreeClassifier(criterion='entropy', max_features='auto',\n",
              "                        random_state=1300333575),\n",
              " DecisionTreeClassifier(criterion='entropy', max_features='auto',\n",
              "                        random_state=1346146623),\n",
              " DecisionTreeClassifier(criterion='entropy', max_features='auto',\n",
              "                        random_state=398576445),\n",
              " DecisionTreeClassifier(criterion='entropy', max_features='auto',\n",
              "                        random_state=826019350),\n",
              " DecisionTreeClassifier(criterion='entropy', max_features='auto',\n",
              "                        random_state=77964601),\n",
              " DecisionTreeClassifier(criterion='entropy', max_features='auto',\n",
              "                        random_state=1616579073),\n",
              " DecisionTreeClassifier(criterion='entropy', max_features='auto',\n",
              "                        random_state=1567750016),\n",
              " DecisionTreeClassifier(criterion='entropy', max_features='auto',\n",
              "                        random_state=1694822716),\n",
              " DecisionTreeClassifier(criterion='entropy', max_features='auto',\n",
              "                        random_state=1413675217),\n",
              " DecisionTreeClassifier(criterion='entropy', max_features='auto',\n",
              "                        random_state=365262088),\n",
              " DecisionTreeClassifier(criterion='entropy', max_features='auto',\n",
              "                        random_state=1415635672),\n",
              " DecisionTreeClassifier(criterion='entropy', max_features='auto',\n",
              "                        random_state=167739021),\n",
              " DecisionTreeClassifier(criterion='entropy', max_features='auto',\n",
              "                        random_state=1172740723),\n",
              " DecisionTreeClassifier(criterion='entropy', max_features='auto',\n",
              "                        random_state=729416111),\n",
              " DecisionTreeClassifier(criterion='entropy', max_features='auto',\n",
              "                        random_state=254447594),\n",
              " DecisionTreeClassifier(criterion='entropy', max_features='auto',\n",
              "                        random_state=1624109689),\n",
              " DecisionTreeClassifier(criterion='entropy', max_features='auto',\n",
              "                        random_state=732412360),\n",
              " DecisionTreeClassifier(criterion='entropy', max_features='auto',\n",
              "                        random_state=422396446),\n",
              " DecisionTreeClassifier(criterion='entropy', max_features='auto',\n",
              "                        random_state=399713351),\n",
              " DecisionTreeClassifier(criterion='entropy', max_features='auto',\n",
              "                        random_state=1808643459),\n",
              " DecisionTreeClassifier(criterion='entropy', max_features='auto',\n",
              "                        random_state=737248710),\n",
              " DecisionTreeClassifier(criterion='entropy', max_features='auto',\n",
              "                        random_state=1966620565),\n",
              " DecisionTreeClassifier(criterion='entropy', max_features='auto',\n",
              "                        random_state=1768615473),\n",
              " DecisionTreeClassifier(criterion='entropy', max_features='auto',\n",
              "                        random_state=142443833),\n",
              " DecisionTreeClassifier(criterion='entropy', max_features='auto',\n",
              "                        random_state=848474627),\n",
              " DecisionTreeClassifier(criterion='entropy', max_features='auto',\n",
              "                        random_state=824105924),\n",
              " DecisionTreeClassifier(criterion='entropy', max_features='auto',\n",
              "                        random_state=1243949848),\n",
              " DecisionTreeClassifier(criterion='entropy', max_features='auto',\n",
              "                        random_state=1355129329),\n",
              " DecisionTreeClassifier(criterion='entropy', max_features='auto',\n",
              "                        random_state=610401323),\n",
              " DecisionTreeClassifier(criterion='entropy', max_features='auto',\n",
              "                        random_state=801015372),\n",
              " DecisionTreeClassifier(criterion='entropy', max_features='auto',\n",
              "                        random_state=1216826394),\n",
              " DecisionTreeClassifier(criterion='entropy', max_features='auto',\n",
              "                        random_state=1437206324),\n",
              " DecisionTreeClassifier(criterion='entropy', max_features='auto',\n",
              "                        random_state=1771840848),\n",
              " DecisionTreeClassifier(criterion='entropy', max_features='auto',\n",
              "                        random_state=78547565),\n",
              " DecisionTreeClassifier(criterion='entropy', max_features='auto',\n",
              "                        random_state=146764659),\n",
              " DecisionTreeClassifier(criterion='entropy', max_features='auto',\n",
              "                        random_state=1074361641),\n",
              " DecisionTreeClassifier(criterion='entropy', max_features='auto',\n",
              "                        random_state=532704722),\n",
              " DecisionTreeClassifier(criterion='entropy', max_features='auto',\n",
              "                        random_state=2099642383),\n",
              " DecisionTreeClassifier(criterion='entropy', max_features='auto',\n",
              "                        random_state=689925184),\n",
              " DecisionTreeClassifier(criterion='entropy', max_features='auto',\n",
              "                        random_state=1065863364),\n",
              " DecisionTreeClassifier(criterion='entropy', max_features='auto',\n",
              "                        random_state=1282027545),\n",
              " DecisionTreeClassifier(criterion='entropy', max_features='auto',\n",
              "                        random_state=1204497775),\n",
              " DecisionTreeClassifier(criterion='entropy', max_features='auto',\n",
              "                        random_state=1916133090),\n",
              " DecisionTreeClassifier(criterion='entropy', max_features='auto',\n",
              "                        random_state=1242445271),\n",
              " DecisionTreeClassifier(criterion='entropy', max_features='auto',\n",
              "                        random_state=954017671),\n",
              " DecisionTreeClassifier(criterion='entropy', max_features='auto',\n",
              "                        random_state=443352346),\n",
              " DecisionTreeClassifier(criterion='entropy', max_features='auto',\n",
              "                        random_state=315096729),\n",
              " DecisionTreeClassifier(criterion='entropy', max_features='auto',\n",
              "                        random_state=1923688040),\n",
              " DecisionTreeClassifier(criterion='entropy', max_features='auto',\n",
              "                        random_state=2015364118),\n",
              " DecisionTreeClassifier(criterion='entropy', max_features='auto',\n",
              "                        random_state=1754904329),\n",
              " DecisionTreeClassifier(criterion='entropy', max_features='auto',\n",
              "                        random_state=413056707),\n",
              " DecisionTreeClassifier(criterion='entropy', max_features='auto',\n",
              "                        random_state=1261063143),\n",
              " DecisionTreeClassifier(criterion='entropy', max_features='auto',\n",
              "                        random_state=1732461694),\n",
              " DecisionTreeClassifier(criterion='entropy', max_features='auto',\n",
              "                        random_state=1235985687),\n",
              " DecisionTreeClassifier(criterion='entropy', max_features='auto',\n",
              "                        random_state=513207677),\n",
              " DecisionTreeClassifier(criterion='entropy', max_features='auto',\n",
              "                        random_state=558468452),\n",
              " DecisionTreeClassifier(criterion='entropy', max_features='auto',\n",
              "                        random_state=106512539)]"
            ]
          },
          "metadata": {},
          "execution_count": 34
        }
      ]
    },
    {
      "cell_type": "markdown",
      "metadata": {
        "id": "cN6JkDGSupch"
      },
      "source": [
        "## Mais informações sobre Machine Learning?\n",
        "\n",
        "Confira no Blog do Alex Souza ([Medium](https://medium.com/blog-do-zouza/o-que-%C3%A9-machine-learning-5e7e98453985))\n",
        "\n",
        "Mais dicas diárias, confira nosso [Instagram](https://www.instagram.com/alexsouzamsc/)."
      ]
    }
  ]
}