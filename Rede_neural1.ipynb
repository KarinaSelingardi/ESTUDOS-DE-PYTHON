{
  "nbformat": 4,
  "nbformat_minor": 0,
  "metadata": {
    "colab": {
      "provenance": [],
      "authorship_tag": "ABX9TyOoDSdFP9thXtC7O6T/FjSd",
      "include_colab_link": true
    },
    "kernelspec": {
      "name": "python3",
      "display_name": "Python 3"
    },
    "language_info": {
      "name": "python"
    }
  },
  "cells": [
    {
      "cell_type": "markdown",
      "metadata": {
        "id": "view-in-github",
        "colab_type": "text"
      },
      "source": [
        "<a href=\"https://colab.research.google.com/github/KarinaSelingardi/ESTUDOS-DE-PYTHON/blob/main/Rede_neural1.ipynb\" target=\"_parent\"><img src=\"https://colab.research.google.com/assets/colab-badge.svg\" alt=\"Open In Colab\"/></a>"
      ]
    },
    {
      "cell_type": "code",
      "execution_count": null,
      "metadata": {
        "id": "UxCNTwP5zU24"
      },
      "outputs": [],
      "source": [
        "# Creating data set\n",
        "\n",
        "# A\n",
        "a =[1, 1, 1, 1, 1, 1,\n",
        "   0, 1, 0, 0, 1, 0,\n",
        "   1, 1, 1, 0, 1, 1,\n",
        "   1, 0, 0, 0, 0, 1,\n",
        "   1, 0, 0, 0, 0, 1]\n",
        "# B\n",
        "b =[0, 1, 1, 1, 1, 0,\n",
        "   0, 1, 0, 0, 1, 0,\n",
        "   0, 1, 1, 0, 0, 0,\n",
        "   0, 1, 0, 0, 1, 0,\n",
        "   0, 1, 1, 1, 1, 0]\n",
        "# C\n",
        "c =[0, 1, 1, 1, 1, 0,\n",
        "   0, 0, 0, 0, 0, 0,\n",
        "   0, 1, 0, 1, 0, 0,\n",
        "   0, 1, 0, 0, 0, 0,\n",
        "   0, 0, 0, 1, 1, 0]\n",
        "\n",
        "# Creating labels"
      ]
    },
    {
      "cell_type": "code",
      "source": [
        "import numpy as np\n",
        "import matplotlib.pyplot as plt\n",
        "# visualizing the data, ploting A.\n",
        "plt.imshow(np.array(a).reshape(5, 6))\n",
        "plt.show()"
      ],
      "metadata": {
        "colab": {
          "base_uri": "https://localhost:8080/",
          "height": 430
        },
        "id": "OYVGyRPZzipA",
        "outputId": "2721fe9d-d519-4c30-8771-ddc36da0dfb0"
      },
      "execution_count": null,
      "outputs": [
        {
          "output_type": "display_data",
          "data": {
            "text/plain": [
              "<Figure size 640x480 with 1 Axes>"
            ],
            "image/png": "[encoded data removed]"
          },
          "metadata": {}
        }
      ]
    },
    {
      "cell_type": "code",
      "source": [
        "# converting data and labels into numpy array\n",
        "\n",
        "\"\"\"\n",
        "Convert the matrix of 0 and 1 into one hot vector\n",
        "so that we can directly feed it to the neural network,\n",
        "these vectors are then stored in a list x.\n",
        "\"\"\"\n",
        "\n",
        "x =[np.array(a).reshape(1, 30), np.array(b).reshape(1, 30),\n",
        "                                np.array(c).reshape(1, 30)]\n",
        "\n",
        "y =np.array(c)\n",
        "\n",
        "\n",
        "print(x, \"\\n\\n\", c)"
      ],
      "metadata": {
        "colab": {
          "base_uri": "https://localhost:8080/"
        },
        "id": "gE2injnWz1L_",
        "outputId": "17624e75-1a76-44d1-fa25-79ed547a1006"
      },
      "execution_count": null,
      "outputs": [
        {
          "output_type": "stream",
          "name": "stdout",
          "text": [
            "[array([[1, 1, 1, 1, 1, 1, 0, 1, 0, 0, 1, 0, 1, 1, 1, 0, 1, 1, 1, 0, 0, 0,\n",
            "        0, 1, 1, 0, 0, 0, 0, 1]]), array([[0, 1, 1, 1, 1, 0, 0, 1, 0, 0, 1, 0, 0, 1, 1, 0, 0, 0, 0, 1, 0, 0,\n",
            "        1, 0, 0, 1, 1, 1, 1, 0]]), array([[0, 1, 1, 1, 1, 0, 0, 0, 0, 0, 0, 0, 0, 1, 0, 1, 0, 0, 0, 1, 0, 0,\n",
            "        0, 0, 0, 0, 0, 1, 1, 0]])] \n",
            "\n",
            " [0, 1, 1, 1, 1, 0, 0, 0, 0, 0, 0, 0, 0, 1, 0, 1, 0, 0, 0, 1, 0, 0, 0, 0, 0, 0, 0, 1, 1, 0]\n"
          ]
        }
      ]
    },
    {
      "cell_type": "code",
      "source": [
        "# activation function\n",
        "\n",
        "def sigmoid(x):\n",
        "    return(1/(1 + np.exp(-x)))\n",
        "\n",
        "# Creating the Feed forward neural network\n",
        "# 1 Input layer(1, 30)\n",
        "# 1 hidden layer (1, 5)\n",
        "# 1 output layer(3, 3)\n",
        "\n",
        "def f_forward(x, w1, w2):\n",
        "    # hidden\n",
        "    z1 = x.dot(w1)# input from layer 1\n",
        "    a1 = sigmoid(z1)# out put of layer 2\n",
        "\n",
        "    # Output layer\n",
        "    z2 = a1.dot(w2)# input of out layer\n",
        "    a2 = sigmoid(z2)# output of out layer\n",
        "    return(a2)\n",
        "\n",
        "# initializing the weights randomly\n",
        "def generate_wt(x, y):\n",
        "    l =[]\n",
        "    for i in range(x * y):\n",
        "        l.append(np.random.randn())\n",
        "    return(np.array(l).reshape(x, y))\n",
        "\n",
        "# for loss we will be using mean square error(MSE)\n",
        "def loss(out, Y):\n",
        "    s =(np.square(out-Y))\n",
        "    s = np.sum(s)/len(y)\n",
        "    return(s)\n",
        "\n",
        "# Back propagation of error\n",
        "def back_prop(x, y, w1, w2, alpha):\n",
        "\n",
        "    # hidden layer\n",
        "    z1 = x.dot(w1)# input from layer 1\n",
        "    a1 = sigmoid(z1)# output of layer 2\n",
        "\n",
        "    # Output layer\n",
        "    z2 = a1.dot(w2)# input of out layer\n",
        "    a2 = sigmoid(z2)# output of out layer\n",
        "    # error in output layer\n",
        "    d2 =(a2-y)\n",
        "    d1 = np.multiply((w2.dot((d2.transpose()))).transpose(),\n",
        "                                   (np.multiply(a1, 1-a1)))\n",
        "\n",
        "    # Gradient for w1 and w2\n",
        "    w1_adj = x.transpose().dot(d1)\n",
        "    w2_adj = a1.transpose().dot(d2)\n",
        "\n",
        "    # Updating parameters\n",
        "    w1 = w1-(alpha*(w1_adj))\n",
        "    w2 = w2-(alpha*(w2_adj))\n",
        "\n",
        "    return(w1, w2)\n",
        "\n",
        "def train(x, Y, w1, w2, alpha = 0.01, epoch = 10):\n",
        "    acc =[]\n",
        "    losss =[]\n",
        "    for j in range(epoch):\n",
        "        l =[]\n",
        "        for i in range(len(x)):\n",
        "            out = f_forward(x[i], w1, w2)\n",
        "            l.append((loss(out, Y[i])))\n",
        "            w1, w2 = back_prop(x[i], y[i], w1, w2, alpha)\n",
        "        print(\"epochs:\", j + 1, \"======== acc:\", (1-(sum(l)/len(x)))*100)\n",
        "        acc.append((1-(sum(l)/len(x)))*100)\n",
        "        losss.append(sum(l)/len(x))\n",
        "    return(acc, losss, w1, w2)\n",
        "\n",
        "def predict(x, w1, w2):\n",
        "    Out = f_forward(x, w1, w2)\n",
        "    maxm = 0\n",
        "    k = 0\n",
        "    for i in range(len(Out[0])):\n",
        "        if(maxm<Out[0][i]):\n",
        "            maxm = Out[0][i]\n",
        "            k = i\n",
        "    if(k == 0):\n",
        "        print(\"Image is of letter A.\")\n",
        "    elif(k == 1):\n",
        "        print(\"Image is of letter B.\")\n",
        "    else:\n",
        "        print(\"Image is of letter C.\")\n",
        "    plt.imshow(x.reshape(5, 6))\n",
        "    plt.show()\n"
      ],
      "metadata": {
        "id": "OQp0MGAq2TzL"
      },
      "execution_count": null,
      "outputs": []
    },
    {
      "cell_type": "code",
      "source": [
        "w1 = generate_wt(30, 5)\n",
        "w2 = generate_wt(5, 3)\n",
        "print(w1, \"\\n\\n\", w2)"
      ],
      "metadata": {
        "colab": {
          "base_uri": "https://localhost:8080/"
        },
        "id": "Fzaf0n6A3m7Z",
        "outputId": "d7ead979-f7f7-4c79-b4eb-4e64cfdf1170"
      },
      "execution_count": null,
      "outputs": [
        {
          "output_type": "stream",
          "name": "stdout",
          "text": [
            "[[-1.09501307  0.67235855  0.1209409  -1.08606759 -0.84338086]\n",
            " [ 0.0497773  -0.20077526  0.01219914  0.9452738   1.01190847]\n",
            " [ 0.66599163  0.85487518  0.21801632 -0.11430702 -0.30323459]\n",
            " [-1.82352698  0.1291337   1.06737291 -1.78771693 -1.11317695]\n",
            " [-2.38250398  0.21932177 -1.40167767 -0.60503917  0.12559035]\n",
            " [ 0.13535819 -0.24122338 -0.20486542  0.06807505 -0.28014861]\n",
            " [ 1.46822502 -0.19392093 -0.12698683  0.90973795  0.98192281]\n",
            " [-0.92851155 -0.71214222  0.71111897  1.12332965  0.50091011]\n",
            " [-0.48946438  0.82793156 -0.2823416   0.50775559 -0.17981748]\n",
            " [-0.4678877   1.29954146  0.67700336  0.02568178 -0.68659244]\n",
            " [-0.52905976  0.27071655  0.20385131  1.57332587  1.09039125]\n",
            " [-0.61254677  0.53753364 -0.19680649  0.11033983  0.21150211]\n",
            " [ 0.76577169 -0.4454971   1.20114797  0.02387638 -0.81562422]\n",
            " [-0.53897105 -1.13188903  2.59282093 -0.7600305   1.28140185]\n",
            " [ 1.56242146  1.85196432 -1.67672321  1.26009062 -1.16131902]\n",
            " [ 1.09931145 -0.49258231 -0.2135195   0.74417155 -0.25107927]\n",
            " [-0.31203979 -0.37324644 -0.54499555 -0.8749758   0.92542977]\n",
            " [-0.21882017 -0.49096459  0.98385042  1.2079747  -0.11542464]\n",
            " [-0.42649348  0.78354218 -0.48281514 -0.12866681 -1.50214354]\n",
            " [-0.47504202 -0.35164975  0.52649786  0.29799636  0.93043081]\n",
            " [ 2.28051594  0.73019306  0.67252137 -0.32021261 -0.55689514]\n",
            " [ 0.35310052  0.21911549  0.39298789  0.73142042  0.15879609]\n",
            " [-1.94970384  0.52622771  0.16586208 -1.27731068  2.49139826]\n",
            " [ 0.64260515 -1.94545165 -0.08522735 -0.19055385 -1.34709504]\n",
            " [-0.25513494  1.30640909 -0.85394945  0.71523951  1.00483632]\n",
            " [ 1.02441319  2.10680069 -0.21482836  0.74683694  1.30034929]\n",
            " [-0.11997041  0.32573079 -1.76780247  1.31099794  0.10814483]\n",
            " [-0.21428089  0.45636737  2.14147187  1.56148122 -1.27632891]\n",
            " [-0.80012272 -0.95839122  0.78126602 -0.19048351  1.53941844]\n",
            " [-1.21648177 -2.11633548 -1.27116046  0.62776826  0.37018338]] \n",
            "\n",
            " [[-0.01740141  1.54778354  0.58342884]\n",
            " [ 0.83572872 -1.33885298  2.32011987]\n",
            " [-0.47024807 -1.28321847 -1.8571531 ]\n",
            " [-0.39574794 -0.22616908  0.08158904]\n",
            " [ 0.43825209  0.76843801  1.03585435]]\n"
          ]
        }
      ]
    },
    {
      "cell_type": "code",
      "source": [
        "\"\"\"The arguments of train function are data set list x,\n",
        "correct labels y, weights w1, w2, learning rate = 0.1,\n",
        "no of epochs or iteration.The function will return the\n",
        "matrix of accuracy and loss and also the matrix of\n",
        "trained weights w1, w2\"\"\"\n",
        "\n",
        "acc, losss, w1, w2 = train(x, y, w1, w2, 0.1, 100)"
      ],
      "metadata": {
        "colab": {
          "base_uri": "https://localhost:8080/"
        },
        "id": "J6MoA__74IxZ",
        "outputId": "d26ab07f-2ebf-42f5-d664-80b0f46cd3af"
      },
      "execution_count": null,
      "outputs": [
        {
          "output_type": "stream",
          "name": "stdout",
          "text": [
            "epochs: 1 ======== acc: 97.22870047725581\n",
            "epochs: 2 ======== acc: 97.59551425819672\n",
            "epochs: 3 ======== acc: 97.90951990942082\n",
            "epochs: 4 ======== acc: 98.1766569948367\n",
            "epochs: 5 ======== acc: 98.39912908649872\n",
            "epochs: 6 ======== acc: 98.580560378406\n",
            "epochs: 7 ======== acc: 98.72672497748232\n",
            "epochs: 8 ======== acc: 98.84419186922938\n",
            "epochs: 9 ======== acc: 98.93906562034621\n",
            "epochs: 10 ======== acc: 99.01644885888614\n",
            "epochs: 11 ======== acc: 99.080403611236\n",
            "epochs: 12 ======== acc: 99.1340952132396\n",
            "epochs: 13 ======== acc: 99.17995744899306\n",
            "epochs: 14 ======== acc: 99.21983711882321\n",
            "epochs: 15 ======== acc: 99.25511776285565\n",
            "epochs: 16 ======== acc: 99.28682553876735\n",
            "epochs: 17 ======== acc: 99.31571727834815\n",
            "epochs: 18 ======== acc: 99.34235063997899\n",
            "epochs: 19 ======== acc: 99.36713780581123\n",
            "epochs: 20 ======== acc: 99.3903853698711\n",
            "epochs: 21 ======== acc: 99.41232339846982\n",
            "epochs: 22 ======== acc: 99.43312637611044\n",
            "epochs: 23 ======== acc: 99.45292823777314\n",
            "epochs: 24 ======== acc: 99.47183315896676\n",
            "epochs: 25 ======== acc: 99.48992332538273\n",
            "epochs: 26 ======== acc: 99.50726455651618\n",
            "epochs: 27 ======== acc: 99.52391040215869\n",
            "epochs: 28 ======== acc: 99.53990514789243\n",
            "epochs: 29 ======== acc: 99.55528603678128\n",
            "epochs: 30 ======== acc: 99.57008492409186\n",
            "epochs: 31 ======== acc: 99.5843295186718\n",
            "epochs: 32 ======== acc: 99.59804432037856\n",
            "epochs: 33 ======== acc: 99.61125133193488\n",
            "epochs: 34 ======== acc: 99.62397060177567\n",
            "epochs: 35 ======== acc: 99.63622063906392\n",
            "epochs: 36 ======== acc: 99.64801873115128\n",
            "epochs: 37 ======== acc: 99.6593811859971\n",
            "epochs: 38 ======== acc: 99.67032351649513\n",
            "epochs: 39 ======== acc: 99.68086057963285\n",
            "epochs: 40 ======== acc: 99.69100668046593\n",
            "epochs: 41 ======== acc: 99.70077564870775\n",
            "epochs: 42 ======== acc: 99.71018089408936\n",
            "epochs: 43 ======== acc: 99.71923544538438\n",
            "epochs: 44 ======== acc: 99.72795197700809\n",
            "epochs: 45 ======== acc: 99.73634282631821\n",
            "epochs: 46 ======== acc: 99.74442000411565\n",
            "epochs: 47 ======== acc: 99.75219520033035\n",
            "epochs: 48 ======== acc: 99.75967978645748\n",
            "epochs: 49 ======== acc: 99.76688481596354\n",
            "epochs: 50 ======== acc: 99.77382102359762\n",
            "epochs: 51 ======== acc: 99.78049882431011\n",
            "epochs: 52 ======== acc: 99.78692831229174\n",
            "epochs: 53 ======== acc: 99.79311926049274\n",
            "epochs: 54 ======== acc: 99.79908112086027\n",
            "epochs: 55 ======== acc: 99.80482302543585\n",
            "epochs: 56 ======== acc: 99.81035378838152\n",
            "epochs: 57 ======== acc: 99.81568190894664\n",
            "epochs: 58 ======== acc: 99.8208155753472\n",
            "epochs: 59 ======== acc: 99.82576266950012\n",
            "epochs: 60 ======== acc: 99.83053077253612\n",
            "epochs: 61 ======== acc: 99.83512717100291\n",
            "epochs: 62 ======== acc: 99.83955886366539\n",
            "epochs: 63 ======== acc: 99.84383256880727\n",
            "epochs: 64 ======== acc: 99.84795473194175\n",
            "epochs: 65 ======== acc: 99.85193153384215\n",
            "epochs: 66 ======== acc: 99.85576889881015\n",
            "epochs: 67 ======== acc: 99.85947250310568\n",
            "epochs: 68 ======== acc: 99.86304778346997\n",
            "epochs: 69 ======== acc: 99.8664999456808\n",
            "epochs: 70 ======== acc: 99.86983397308666\n",
            "epochs: 71 ======== acc: 99.87305463507305\n",
            "epochs: 72 ======== acc: 99.87616649542167\n",
            "epochs: 73 ======== acc: 99.87917392052883\n",
            "epochs: 74 ======== acc: 99.8820810874554\n",
            "epochs: 75 ======== acc: 99.88489199178593\n",
            "epochs: 76 ======== acc: 99.8876104552788\n",
            "epochs: 77 ======== acc: 99.8902401332939\n",
            "epochs: 78 ======== acc: 99.89278452198718\n",
            "epochs: 79 ======== acc: 99.89524696526561\n",
            "epochs: 80 ======== acc: 99.89763066149769\n",
            "epochs: 81 ======== acc: 99.89993866997767\n",
            "epochs: 82 ======== acc: 99.90217391714366\n",
            "epochs: 83 ======== acc: 99.9043392025508\n",
            "epochs: 84 ======== acc: 99.90643720460287\n",
            "epochs: 85 ======== acc: 99.90847048604626\n",
            "epochs: 86 ======== acc: 99.9104414992313\n",
            "epochs: 87 ======== acc: 99.91235259114693\n",
            "epochs: 88 ======== acc: 99.91420600823471\n",
            "epochs: 89 ======== acc: 99.91600390098921\n",
            "epochs: 90 ======== acc: 99.91774832835155\n",
            "epochs: 91 ======== acc: 99.91944126190351\n",
            "epochs: 92 ======== acc: 99.92108458986957\n",
            "epochs: 93 ======== acc: 99.92268012093396\n",
            "epochs: 94 ======== acc: 99.92422958788055\n",
            "epochs: 95 ======== acc: 99.92573465106248\n",
            "epochs: 96 ======== acc: 99.92719690170891\n",
            "epochs: 97 ======== acc: 99.92861786507581\n",
            "epochs: 98 ======== acc: 99.92999900344775\n",
            "epochs: 99 ======== acc: 99.93134171899733\n",
            "epochs: 100 ======== acc: 99.93264735650874\n"
          ]
        }
      ]
    },
    {
      "cell_type": "code",
      "source": [
        "import matplotlib.pyplot as plt1\n",
        "\n",
        "# ploting accuraccy\n",
        "plt1.plot(acc)\n",
        "plt1.ylabel('Accuracy')\n",
        "plt1.xlabel(\"Epochs:\")\n",
        "plt1.show()\n",
        "\n",
        "# plotting Loss\n",
        "plt1.plot(losss)\n",
        "plt1.ylabel('Loss')\n",
        "plt1.xlabel(\"Epochs:\")\n",
        "plt1.show()"
      ],
      "metadata": {
        "colab": {
          "base_uri": "https://localhost:8080/",
          "height": 881
        },
        "id": "Raw2nbzR4XPt",
        "outputId": "dce62deb-3e0c-4143-cc0b-4c2768919145"
      },
      "execution_count": null,
      "outputs": [
        {
          "output_type": "display_data",
          "data": {
            "text/plain": [
              "<Figure size 640x480 with 1 Axes>"
            ],
            "image/png": "[encoded data removed]"
          },
          "metadata": {}
        },
        {
          "output_type": "display_data",
          "data": {
            "text/plain": [
              "<Figure size 640x480 with 1 Axes>"
            ],
            "image/png": "[encoded data removed]"
          },
          "metadata": {}
        }
      ]
    },
    {
      "cell_type": "code",
      "source": [
        "# the trained weigths are\n",
        "print(w1, \"\\n\", w2)"
      ],
      "metadata": {
        "colab": {
          "base_uri": "https://localhost:8080/"
        },
        "id": "L_6e9Zx44eyE",
        "outputId": "7f6496e5-6eeb-47b4-a163-c1efc889d52e"
      },
      "execution_count": null,
      "outputs": [
        {
          "output_type": "stream",
          "name": "stdout",
          "text": [
            "[[-1.11043895  0.31523465  0.37101252 -0.96164333 -1.18315029]\n",
            " [ 0.07828238  0.09637362  0.21882346  0.89387047  1.03936459]\n",
            " [ 0.69449671  1.15202407  0.42464064 -0.16571035 -0.27577847]\n",
            " [-1.7950219   0.42628258  1.27399724 -1.83912026 -1.08572083]\n",
            " [-2.3539989   0.51647065 -1.19505334 -0.6564425   0.15304647]\n",
            " [ 0.11993231 -0.59834728  0.04520619  0.19249931 -0.61991803]\n",
            " [ 1.46822502 -0.19392093 -0.12698683  0.90973795  0.98192281]\n",
            " [-0.93894336 -1.06015243  0.92424137  1.23082526  0.16921228]\n",
            " [-0.48946438  0.82793156 -0.2823416   0.50775559 -0.17981748]\n",
            " [-0.4678877   1.29954146  0.67700336  0.02568178 -0.68659244]\n",
            " [-0.53949157 -0.07729367  0.41697372  1.68082148  0.75869342]\n",
            " [-0.61254677  0.53753364 -0.19680649  0.11033983  0.21150211]\n",
            " [ 0.75034581 -0.802621    1.45121959  0.14830063 -1.15539364]\n",
            " [-0.51046597 -0.83474014  2.79944526 -0.81143383  1.30885797]\n",
            " [ 1.55198965  1.5039541  -1.46360081  1.36758622 -1.49301685]\n",
            " [ 1.13824833  0.15257679 -0.22001757  0.58527261  0.10807468]\n",
            " [-0.32746567 -0.73037034 -0.29492393 -0.75055155  0.58566035]\n",
            " [-0.23424605 -0.84808849  1.23392204  1.33239895 -0.45519406]\n",
            " [-0.44191936  0.42641828 -0.23274353 -0.00424256 -1.84191296]\n",
            " [-0.43111106  0.30262303  0.48305056  0.12216878  1.29765635]\n",
            " [ 2.28051594  0.73019306  0.67252137 -0.32021261 -0.55689514]\n",
            " [ 0.35310052  0.21911549  0.39298789  0.73142042  0.15879609]\n",
            " [-1.94470976  0.53534139  0.12891286 -1.29423933  2.49946986]\n",
            " [ 0.62717927 -2.30257555  0.16484427 -0.06612959 -1.68686446]\n",
            " [-0.27056082  0.94928519 -0.60387783  0.83966377  0.6650669 ]\n",
            " [ 1.02940727  2.11591437 -0.25177757  0.72990829  1.30842089]\n",
            " [-0.11497633  0.33484447 -1.80475169  1.29406929  0.11621643]\n",
            " [-0.17034993  1.11064015  2.09802457  1.38565364 -0.90910337]\n",
            " [-0.75619176 -0.30411843  0.73781873 -0.3663111   1.90664399]\n",
            " [-1.23190766 -2.47345938 -1.02108884  0.75219252  0.03041396]] \n",
            " [[-0.00697834  1.562296    0.59462229]\n",
            " [ 2.40348685  0.96568052  3.31417016]\n",
            " [-0.79816585 -1.12431882 -1.9023333 ]\n",
            " [-1.21201923 -0.67868548 -0.47191596]\n",
            " [ 2.44688357  3.61136826  2.47540204]]\n"
          ]
        }
      ]
    },
    {
      "cell_type": "code",
      "source": [
        "\"\"\"\n",
        "The predict function will take the following arguments:\n",
        "1) image matrix\n",
        "2) w1 trained weights\n",
        "3) w2 trained weights\n",
        "\"\"\"\n",
        "predict(x[1], w1, w2)"
      ],
      "metadata": {
        "colab": {
          "base_uri": "https://localhost:8080/",
          "height": 447
        },
        "id": "z2Rt9Cxj4mE1",
        "outputId": "1232e392-3a45-4737-8dd1-420fcaec6cec"
      },
      "execution_count": null,
      "outputs": [
        {
          "output_type": "stream",
          "name": "stdout",
          "text": [
            "Image is of letter C.\n"
          ]
        },
        {
          "output_type": "display_data",
          "data": {
            "text/plain": [
              "<Figure size 640x480 with 1 Axes>"
            ],
            "image/png": "[encoded data removed]"
          },
          "metadata": {}
        }
      ]
    }
  ]
}